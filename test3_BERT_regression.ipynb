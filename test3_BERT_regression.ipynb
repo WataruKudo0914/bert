{
 "cells": [
  {
   "cell_type": "markdown",
   "metadata": {},
   "source": [
    "# Bert Regressor\n",
    "学習中にtrain_lossとeval_lossを同時に見れるようにする．"
   ]
  },
  {
   "cell_type": "code",
   "execution_count": 1,
   "metadata": {
    "scrolled": false
   },
   "outputs": [
    {
     "name": "stderr",
     "output_type": "stream",
     "text": [
      "/home/ubuntu/anaconda3/lib/python3.6/site-packages/h5py/__init__.py:36: FutureWarning: Conversion of the second argument of issubdtype from `float` to `np.floating` is deprecated. In future, it will be treated as `np.float64 == np.dtype(float).type`.\n",
      "  from ._conv import register_converters as _register_converters\n",
      "/home/ubuntu/anaconda3/lib/python3.6/site-packages/matplotlib/__init__.py:1067: UserWarning: Duplicate key in file \"/home/ubuntu/.config/matplotlib/matplotlibrc\", line #2\n",
      "  (fname, cnt))\n",
      "/home/ubuntu/anaconda3/lib/python3.6/site-packages/matplotlib/__init__.py:1067: UserWarning: Duplicate key in file \"/home/ubuntu/.config/matplotlib/matplotlibrc\", line #3\n",
      "  (fname, cnt))\n"
     ]
    }
   ],
   "source": [
    "import tensorflow as tf\n",
    "import modeling\n",
    "import tokenization\n",
    "import optimization\n",
    "import run_regressor\n",
    "import os\n",
    "import numpy as np\n",
    "import pandas as pd\n",
    "import matplotlib.pyplot as plt\n",
    "%matplotlib inline"
   ]
  },
  {
   "cell_type": "markdown",
   "metadata": {},
   "source": [
    "## Preprocessing for Data\n",
    "give indice to reviewerID, asin"
   ]
  },
  {
   "cell_type": "code",
   "execution_count": 2,
   "metadata": {},
   "outputs": [],
   "source": [
    "train_df = pd.read_csv('/home/ubuntu/glue_data/ARD/train.tsv','\\t')\n",
    "dev_df = pd.read_csv('/home/ubuntu/glue_data/ARD/dev.tsv','\\t')\n",
    "test_df = pd.read_csv('/home/ubuntu/glue_data/ARD/test.tsv','\\t')\n",
    "all_df = train_df.append(dev_df).append(test_df)"
   ]
  },
  {
   "cell_type": "code",
   "execution_count": 3,
   "metadata": {},
   "outputs": [],
   "source": [
    "from sklearn.preprocessing import LabelEncoder\n",
    "label_encoder = LabelEncoder()\n",
    "label_encoder.fit(np.hstack((all_df.asin,all_df.reviewerID)))\n",
    "def add_indice_cols(df):\n",
    "    df_ = df.copy()\n",
    "    df_['user_id'] = label_encoder.transform(df_['reviewerID'])\n",
    "    df_['item_id'] = label_encoder.transform(df_['asin'])\n",
    "    return df_"
   ]
  },
  {
   "cell_type": "code",
   "execution_count": 4,
   "metadata": {},
   "outputs": [],
   "source": [
    "train_df = add_indice_cols(train_df)\n",
    "dev_df = add_indice_cols(dev_df)\n",
    "test_df = add_indice_cols(test_df)"
   ]
  },
  {
   "cell_type": "code",
   "execution_count": 5,
   "metadata": {},
   "outputs": [],
   "source": [
    "from sklearn.model_selection import train_test_split"
   ]
  },
  {
   "cell_type": "code",
   "execution_count": 6,
   "metadata": {},
   "outputs": [],
   "source": [
    "train_df, dev_df = train_test_split(train_df.append(dev_df), test_size=0.33, shuffle=True)"
   ]
  },
  {
   "cell_type": "code",
   "execution_count": 7,
   "metadata": {},
   "outputs": [],
   "source": [
    "train_df.to_csv('/home/ubuntu/glue_data/ARD/train.tsv',sep='\\t',index=None)\n",
    "dev_df.to_csv('/home/ubuntu/glue_data/ARD/dev.tsv',sep='\\t',index=None)\n",
    "test_df.to_csv('/home/ubuntu/glue_data/ARD/test.tsv',sep='\\t',index=None)"
   ]
  },
  {
   "cell_type": "markdown",
   "metadata": {},
   "source": [
    "## Defining args"
   ]
  },
  {
   "cell_type": "code",
   "execution_count": 8,
   "metadata": {},
   "outputs": [],
   "source": [
    "bert_config_file = '/home/ubuntu/bert_models/uncased_L-12_H-768_A-12/bert_config.json'\n",
    "bert_config = modeling.BertConfig.from_json_file(bert_config_file)\n",
    "vocab_file = '/home/ubuntu/bert_models/uncased_L-12_H-768_A-12/vocab.txt'\n",
    "max_seq_length = 128\n",
    "train_batch_size = 32\n",
    "eval_batch_size = 32\n",
    "predict_batch_size = 32\n",
    "num_train_epochs=5.0\n",
    "warmup_proportion = 0.1\n",
    "\n",
    "''' tpu '''\n",
    "save_checkpoints_steps = 1000\n",
    "iterations_per_loop = 1000\n",
    "\n",
    "DATA_DIR = '/home/ubuntu/glue_data/ARD/'\n",
    "BERT_BASE_DIR = '/home/ubuntu/bert_models/uncased_L-12_H-768_A-12'\n",
    "INIT_CHECKPOINT = '/home/ubuntu/bert_models/uncased_L-12_H-768_A-12/bert_model.ckpt'"
   ]
  },
  {
   "cell_type": "markdown",
   "metadata": {},
   "source": [
    "## Defining methods"
   ]
  },
  {
   "cell_type": "code",
   "execution_count": 9,
   "metadata": {},
   "outputs": [],
   "source": [
    "# using only textual information\n",
    "def create_model(bert_config, is_training, input_ids, input_mask, segment_ids,values):\n",
    "    \"\"\"Creates a regression model.\"\"\"\n",
    "    model = modeling.BertModel(\n",
    "      config=bert_config,\n",
    "      is_training=is_training,\n",
    "      input_ids=input_ids,\n",
    "      input_mask=input_mask,\n",
    "      token_type_ids=segment_ids)\n",
    "\n",
    "    output_layer = model.get_pooled_output()\n",
    "\n",
    "    hidden_size = output_layer.shape[-1].value\n",
    "\n",
    "    output_weights = tf.get_variable(\n",
    "      \"output_weights\", [1, hidden_size],\n",
    "      initializer=tf.truncated_normal_initializer(stddev=0.02))\n",
    "\n",
    "    output_bias = tf.get_variable(\n",
    "      \"output_bias\", [1], initializer=tf.zeros_initializer())\n",
    "\n",
    "    with tf.variable_scope(\"loss\"):\n",
    "        if is_training:\n",
    "          # I.e., 0.1 dropout\n",
    "          output_layer = tf.nn.dropout(output_layer, keep_prob=0.9)\n",
    "\n",
    "        logits = tf.matmul(output_layer, output_weights, transpose_b=True)\n",
    "        logits = tf.nn.bias_add(logits, output_bias)\n",
    "        logits = tf.squeeze(logits)\n",
    "        loss = tf.losses.mean_squared_error(values,logits)\n",
    "\n",
    "    return (loss, logits)"
   ]
  },
  {
   "cell_type": "markdown",
   "metadata": {},
   "source": [
    "レビュワー・商品のコンテクストを取り入れる"
   ]
  },
  {
   "cell_type": "code",
   "execution_count": 10,
   "metadata": {},
   "outputs": [],
   "source": [
    "def get_distribution(df):\n",
    "    user_cnt_dist = df.groupby(['user_id','overall'])['helpful_rate'].count().unstack(1,fill_value=0)\n",
    "    item_cnt_dist = df.groupby(['item_id','overall'])['helpful_rate'].count().unstack(1,fill_value=0)\n",
    "    all_cnt_dist = user_cnt_dist.append(item_cnt_dist).sort_index()\n",
    "    all_dist = all_cnt_dist.apply(lambda x:x/sum(x),1)\n",
    "    return all_dist"
   ]
  },
  {
   "cell_type": "code",
   "execution_count": 11,
   "metadata": {},
   "outputs": [],
   "source": [
    "# using textual and user-item contextual information\n",
    "def create_model2(bert_config, is_training, input_ids, input_mask, segment_ids,values,user_id,item_id,overall):\n",
    "    \"\"\"Creates a regression model.\"\"\"\n",
    "    # text information\n",
    "    model = modeling.BertModel(\n",
    "      config=bert_config,\n",
    "      is_training=is_training,\n",
    "      input_ids=input_ids,\n",
    "      input_mask=input_mask,\n",
    "      token_type_ids=segment_ids)\n",
    "\n",
    "    output_layer = model.get_pooled_output()\n",
    "    \n",
    "    \n",
    "    # User and Item and this rating information\n",
    "    user_item_emb = tf.constant(get_distribution(all_df).values,dtype=tf.float32)\n",
    "    user_dist = tf.nn.embedding_lookup(user_item_emb,user_id)\n",
    "    item_dist = tf.nn.embedding_lookup(user_item_emb,item_id)\n",
    "    rating_onehot = tf.one_hot(overall-1,depth=5,dtype=tf.float32)\n",
    "    historical_ = tf.concat([user_dist,item_dist,rating_onehot],1)\n",
    "    historical = tf.layers.dense(historical_,historical_.shape[-1].value)\n",
    "    \n",
    "    # concat\n",
    "    bert_historical = tf.concat([output_layer,historical],1)\n",
    "    \n",
    "    hidden_size = bert_historical.shape[-1].value\n",
    "    \n",
    "    output_weights = tf.get_variable(\n",
    "      \"output_weights\", [1, hidden_size],\n",
    "      initializer=tf.truncated_normal_initializer(stddev=0.02))\n",
    "\n",
    "    output_bias = tf.get_variable(\n",
    "      \"output_bias\", [1], initializer=tf.zeros_initializer())\n",
    "\n",
    "    with tf.variable_scope(\"loss\"):\n",
    "        if is_training:\n",
    "          # I.e., 0.1 dropout\n",
    "          output_layer = tf.nn.dropout(output_layer, keep_prob=0.9)\n",
    "\n",
    "        logits = tf.matmul(bert_historical, output_weights, transpose_b=True)\n",
    "        logits = tf.nn.bias_add(logits, output_bias)\n",
    "        logits = tf.squeeze(logits)\n",
    "        loss = tf.losses.mean_squared_error(values,logits)\n",
    "\n",
    "    return (loss, logits)"
   ]
  },
  {
   "cell_type": "code",
   "execution_count": 12,
   "metadata": {},
   "outputs": [],
   "source": [
    "def model_fn_builder(bert_config, init_checkpoint, learning_rate,\n",
    "                     num_train_steps, num_warmup_steps, use_tpu=False):\n",
    "  \"\"\"Returns `model_fn` closure\"\"\"\n",
    "\n",
    "  def model_fn(features, labels, mode, params):  # pylint: disable=unused-argument\n",
    "    \"\"\"The `model_fn` for TPUEstimator.\"\"\"\n",
    "    input_ids = features[\"input_ids\"]\n",
    "    input_mask = features[\"input_mask\"]\n",
    "    segment_ids = features[\"segment_ids\"]\n",
    "    values = features[\"values\"]\n",
    "    user_id = features[\"user_id\"]\n",
    "    item_id = features[\"item_id\"]\n",
    "    overall = features[\"overall\"]\n",
    "\n",
    "    is_training = (mode == tf.estimator.ModeKeys.TRAIN)\n",
    "\n",
    "#     (total_loss, logits) = create_model2(\n",
    "#         bert_config, is_training, input_ids, input_mask, segment_ids, values,user_id,item_id,overall)\n",
    "    (total_loss, logits) = create_model(\n",
    "        bert_config, is_training, input_ids, input_mask, segment_ids, values)\n",
    "\n",
    "    tvars = tf.trainable_variables()\n",
    "    initialized_variable_names = {}\n",
    "    scaffold_fn = None\n",
    "    if init_checkpoint:\n",
    "        (assignment_map, initialized_variable_names\n",
    "              ) = modeling.get_assignment_map_from_checkpoint(tvars, init_checkpoint)\n",
    "        if use_tpu:\n",
    "\n",
    "            def tpu_scaffold():\n",
    "                tf.train.init_from_checkpoint(init_checkpoint, assignment_map)\n",
    "                return tf.train.Scaffold()\n",
    "\n",
    "            scaffold_fn = tpu_scaffold\n",
    "        else:\n",
    "            tf.train.init_from_checkpoint(init_checkpoint, assignment_map)\n",
    "\n",
    "    output_spec = None\n",
    "    if mode == tf.estimator.ModeKeys.TRAIN:\n",
    "\n",
    "        train_op = optimization.create_optimizer(total_loss, learning_rate, num_train_steps, num_warmup_steps, use_tpu)\n",
    "\n",
    "        output_spec = tf.contrib.tpu.TPUEstimatorSpec(\n",
    "                              mode=mode,\n",
    "                              loss=total_loss,\n",
    "                              train_op=train_op,\n",
    "                              scaffold_fn=scaffold_fn)\n",
    "    elif mode == tf.estimator.ModeKeys.EVAL:\n",
    "\n",
    "        def metric_fn(total_loss, logits):\n",
    "            return {\n",
    "                \"eval_loss\": tf.metrics.mean_squared_error(labels=values,predictions=logits),\n",
    "            }\n",
    "\n",
    "        eval_metrics = (metric_fn, [total_loss, logits])\n",
    "        output_spec = tf.contrib.tpu.TPUEstimatorSpec(\n",
    "          mode=mode,\n",
    "          loss=total_loss,\n",
    "          eval_metrics=eval_metrics,\n",
    "          scaffold_fn=scaffold_fn)\n",
    "    else:\n",
    "        output_spec = tf.contrib.tpu.TPUEstimatorSpec(\n",
    "            mode=mode, predictions=logits, scaffold_fn=scaffold_fn)\n",
    "    return output_spec\n",
    "\n",
    "  return model_fn\n"
   ]
  },
  {
   "cell_type": "code",
   "execution_count": 13,
   "metadata": {},
   "outputs": [],
   "source": [
    "def input_fn_builder(features, seq_length, is_training, drop_remainder):\n",
    "    \"\"\"Creates an `input_fn` closure to be passed to TPUEstimator.\"\"\"\n",
    "\n",
    "    all_input_ids = []\n",
    "    all_input_mask = []\n",
    "    all_segment_ids = []\n",
    "    all_label_ids = []\n",
    "    all_user_ids = []\n",
    "    all_item_ids = []\n",
    "    all_overalls = []\n",
    "\n",
    "    for feature in features:\n",
    "        all_input_ids.append(feature.input_ids)\n",
    "        all_input_mask.append(feature.input_mask)\n",
    "        all_segment_ids.append(feature.segment_ids)\n",
    "        all_label_ids.append(feature.label_id)\n",
    "        all_user_ids.append(feature.user_id)\n",
    "        all_item_ids.append(feature.item_id)\n",
    "        all_overalls.append(feature.overall)\n",
    "  \n",
    "    def input_fn(params):\n",
    "        \"\"\"The actual input function.\"\"\"\n",
    "        batch_size = params[\"batch_size\"]\n",
    "\n",
    "        num_examples = len(features)\n",
    "\n",
    "        # This is for demo purposes and does NOT scale to large data sets. We do\n",
    "        # not use Dataset.from_generator() because that uses tf.py_func which is\n",
    "        # not TPU compatible. The right way to load data is with TFRecordReader.\n",
    "        d = tf.data.Dataset.from_tensor_slices({\n",
    "            \"input_ids\":\n",
    "                tf.constant(\n",
    "                    all_input_ids, shape=[num_examples, seq_length],\n",
    "                    dtype=tf.int32),\n",
    "            \"input_mask\":\n",
    "                tf.constant(\n",
    "                    all_input_mask,\n",
    "                    shape=[num_examples, seq_length],\n",
    "                    dtype=tf.int32),\n",
    "            \"segment_ids\":\n",
    "                tf.constant(\n",
    "                    all_segment_ids,\n",
    "                    shape=[num_examples, seq_length],\n",
    "                    dtype=tf.int32),\n",
    "            \"values\":\n",
    "                tf.constant(all_label_ids, shape=[num_examples], dtype=tf.float32),\n",
    "            \"user_id\":\n",
    "                tf.constant(all_user_ids,shape=[num_examples],dtype=tf.int32),\n",
    "            \"item_id\":\n",
    "                tf.constant(all_item_ids,shape=[num_examples],dtype=tf.int32),\n",
    "            \"overall\":\n",
    "                tf.constant(all_overalls,shape=[num_examples],dtype=tf.int32),\n",
    "        })\n",
    "\n",
    "        if is_training:\n",
    "            d = d.repeat()\n",
    "            d = d.shuffle(buffer_size=100)\n",
    "\n",
    "        d = d.batch(batch_size=batch_size, drop_remainder=drop_remainder)\n",
    "        return d\n",
    "\n",
    "    return input_fn"
   ]
  },
  {
   "cell_type": "markdown",
   "metadata": {},
   "source": [
    "## Construct Estimator"
   ]
  },
  {
   "cell_type": "code",
   "execution_count": 14,
   "metadata": {},
   "outputs": [],
   "source": [
    "OUTPUT_DIR = '/home/ubuntu/tmp/bert_TrEv/'"
   ]
  },
  {
   "cell_type": "code",
   "execution_count": 15,
   "metadata": {},
   "outputs": [],
   "source": [
    "processor = run_regressor.ArdProcessor()\n",
    "tokenizer = tokenization.FullTokenizer(vocab_file=vocab_file,do_lower_case=True)"
   ]
  },
  {
   "cell_type": "code",
   "execution_count": 16,
   "metadata": {},
   "outputs": [],
   "source": [
    "train_examples = processor.get_train_examples(DATA_DIR)\n",
    "num_train_steps = int(len(train_examples) / train_batch_size * num_train_epochs)\n",
    "num_warmup_steps = int(num_train_steps * warmup_proportion)"
   ]
  },
  {
   "cell_type": "code",
   "execution_count": 17,
   "metadata": {},
   "outputs": [],
   "source": [
    "# tpu configuration\n",
    "tpu_cluster_resolver = None\n",
    "is_per_host = tf.contrib.tpu.InputPipelineConfig.PER_HOST_V2\n",
    "run_config = tf.contrib.tpu.RunConfig(\n",
    "  cluster=tpu_cluster_resolver,\n",
    "  master=None,\n",
    "  model_dir=OUTPUT_DIR,\n",
    "  save_checkpoints_steps=save_checkpoints_steps,\n",
    "  tpu_config=tf.contrib.tpu.TPUConfig(\n",
    "      iterations_per_loop=iterations_per_loop,\n",
    "      num_shards=None,\n",
    "      per_host_input_for_training=is_per_host))\n"
   ]
  },
  {
   "cell_type": "code",
   "execution_count": 18,
   "metadata": {},
   "outputs": [],
   "source": [
    "model_fn = model_fn_builder(bert_config=bert_config,\n",
    "                            init_checkpoint=INIT_CHECKPOINT,\n",
    "                            learning_rate=2e-5,\n",
    "                            num_train_steps=num_train_steps,\n",
    "                            num_warmup_steps=num_warmup_steps)"
   ]
  },
  {
   "cell_type": "code",
   "execution_count": 19,
   "metadata": {},
   "outputs": [
    {
     "name": "stdout",
     "output_type": "stream",
     "text": [
      "WARNING:tensorflow:Estimator's model_fn (<function model_fn_builder.<locals>.model_fn at 0x7f20d8a89f28>) includes params argument, but params are not passed to Estimator.\n",
      "INFO:tensorflow:Using config: {'_model_dir': '/home/ubuntu/tmp/bert_TrEv/', '_tf_random_seed': None, '_save_summary_steps': 100, '_save_checkpoints_steps': 1000, '_save_checkpoints_secs': None, '_session_config': allow_soft_placement: true\n",
      "graph_options {\n",
      "  rewrite_options {\n",
      "    meta_optimizer_iterations: ONE\n",
      "  }\n",
      "}\n",
      ", '_keep_checkpoint_max': 5, '_keep_checkpoint_every_n_hours': 10000, '_log_step_count_steps': None, '_train_distribute': None, '_device_fn': None, '_protocol': None, '_eval_distribute': None, '_experimental_distribute': None, '_service': None, '_cluster_spec': <tensorflow.python.training.server_lib.ClusterSpec object at 0x7f20e5420048>, '_task_type': 'worker', '_task_id': 0, '_global_id_in_cluster': 0, '_master': '', '_evaluation_master': '', '_is_chief': True, '_num_ps_replicas': 0, '_num_worker_replicas': 1, '_tpu_config': TPUConfig(iterations_per_loop=1000, num_shards=None, num_cores_per_replica=None, per_host_input_for_training=3, tpu_job_name=None, initial_infeed_sleep_secs=None, input_partition_dims=None), '_cluster': None}\n",
      "INFO:tensorflow:_TPUContext: eval_on_tpu True\n",
      "WARNING:tensorflow:eval_on_tpu ignored because use_tpu is False.\n"
     ]
    }
   ],
   "source": [
    "estimator = tf.contrib.tpu.TPUEstimator(\n",
    "    use_tpu=False,\n",
    "    model_fn=model_fn,\n",
    "    config=run_config,\n",
    "    train_batch_size=train_batch_size,\n",
    "    eval_batch_size=eval_batch_size,\n",
    "    predict_batch_size=predict_batch_size)"
   ]
  },
  {
   "cell_type": "markdown",
   "metadata": {},
   "source": [
    "## Training and Evaluation "
   ]
  },
  {
   "cell_type": "code",
   "execution_count": 20,
   "metadata": {},
   "outputs": [],
   "source": [
    "# Configuration\n",
    "steps_per_eval = 100 #training_step何回につき評価を行うか"
   ]
  },
  {
   "cell_type": "code",
   "execution_count": 21,
   "metadata": {},
   "outputs": [
    {
     "name": "stdout",
     "output_type": "stream",
     "text": [
      "INFO:tensorflow:Writing example 0 of 33500\n",
      "INFO:tensorflow:*** Example ***\n",
      "INFO:tensorflow:guid: train-0\n",
      "INFO:tensorflow:tokens: [CLS] i have a nano ipod , while my sons have the video ipod ##s . i drop mine a lot , cutting the lawn , etc , and nano ##s are just about ind ##est ##ru ##ct ##ible . i keep all my music on the computer , and about 10 hours worth on the nano . i love it . i searched carefully , first reading every review of a small stereo unit to play the ipod ##s . next , i went to several stores and tested them all , with my ipod , playing bob dylan music . i download his concerts , so the sound quality is not always the best ; which is a great way to test the various units [SEP]\n",
      "INFO:tensorflow:input_ids: 101 1045 2031 1037 28991 26322 1010 2096 2026 4124 2031 1996 2678 26322 2015 1012 1045 4530 3067 1037 2843 1010 6276 1996 10168 1010 4385 1010 1998 28991 2015 2024 2074 2055 27427 4355 6820 6593 7028 1012 1045 2562 2035 2026 2189 2006 1996 3274 1010 1998 2055 2184 2847 4276 2006 1996 28991 1012 1045 2293 2009 1012 1045 9022 5362 1010 2034 3752 2296 3319 1997 1037 2235 12991 3131 2000 2377 1996 26322 2015 1012 2279 1010 1045 2253 2000 2195 5324 1998 7718 2068 2035 1010 2007 2026 26322 1010 2652 3960 7758 2189 1012 1045 8816 2010 6759 1010 2061 1996 2614 3737 2003 2025 2467 1996 2190 1025 2029 2003 1037 2307 2126 2000 3231 1996 2536 3197 102\n",
      "INFO:tensorflow:input_mask: 1 1 1 1 1 1 1 1 1 1 1 1 1 1 1 1 1 1 1 1 1 1 1 1 1 1 1 1 1 1 1 1 1 1 1 1 1 1 1 1 1 1 1 1 1 1 1 1 1 1 1 1 1 1 1 1 1 1 1 1 1 1 1 1 1 1 1 1 1 1 1 1 1 1 1 1 1 1 1 1 1 1 1 1 1 1 1 1 1 1 1 1 1 1 1 1 1 1 1 1 1 1 1 1 1 1 1 1 1 1 1 1 1 1 1 1 1 1 1 1 1 1 1 1 1 1 1 1\n",
      "INFO:tensorflow:segment_ids: 0 0 0 0 0 0 0 0 0 0 0 0 0 0 0 0 0 0 0 0 0 0 0 0 0 0 0 0 0 0 0 0 0 0 0 0 0 0 0 0 0 0 0 0 0 0 0 0 0 0 0 0 0 0 0 0 0 0 0 0 0 0 0 0 0 0 0 0 0 0 0 0 0 0 0 0 0 0 0 0 0 0 0 0 0 0 0 0 0 0 0 0 0 0 0 0 0 0 0 0 0 0 0 0 0 0 0 0 0 0 0 0 0 0 0 0 0 0 0 0 0 0 0 0 0 0 0 0\n",
      "INFO:tensorflow:*** Example ***\n",
      "INFO:tensorflow:guid: train-1\n",
      "INFO:tensorflow:tokens: [CLS] as a former professional photographer ( back in the old days ) i did not rush out to buy a digital point - and - shoot when they first came out , as the quality was poor compared to film . also , they become obsolete very quickly . my first dig ##ica ##m was a powers ##hot a ##51 ##0 - a solid little camera - and i took several award - winning photos with it . i ' ve used sony and pan ##as ##onic dig ##ica ##ms , and have looked at all the other common makes . at this price point , i haven ' t seen anything that i like better than the 570 ##is for features and ease of use [SEP]\n",
      "INFO:tensorflow:input_ids: 101 2004 1037 2280 2658 8088 1006 2067 1999 1996 2214 2420 1007 1045 2106 2025 5481 2041 2000 4965 1037 3617 2391 1011 1998 1011 5607 2043 2027 2034 2234 2041 1010 2004 1996 3737 2001 3532 4102 2000 2143 1012 2036 1010 2027 2468 15832 2200 2855 1012 2026 2034 10667 5555 2213 2001 1037 4204 12326 1037 22203 2692 1011 1037 5024 2210 4950 1011 1998 1045 2165 2195 2400 1011 3045 7760 2007 2009 1012 1045 1005 2310 2109 8412 1998 6090 3022 12356 10667 5555 5244 1010 1998 2031 2246 2012 2035 1996 2060 2691 3084 1012 2012 2023 3976 2391 1010 1045 4033 1005 1056 2464 2505 2008 1045 2066 2488 2084 1996 24902 2483 2005 2838 1998 7496 1997 2224 102\n",
      "INFO:tensorflow:input_mask: 1 1 1 1 1 1 1 1 1 1 1 1 1 1 1 1 1 1 1 1 1 1 1 1 1 1 1 1 1 1 1 1 1 1 1 1 1 1 1 1 1 1 1 1 1 1 1 1 1 1 1 1 1 1 1 1 1 1 1 1 1 1 1 1 1 1 1 1 1 1 1 1 1 1 1 1 1 1 1 1 1 1 1 1 1 1 1 1 1 1 1 1 1 1 1 1 1 1 1 1 1 1 1 1 1 1 1 1 1 1 1 1 1 1 1 1 1 1 1 1 1 1 1 1 1 1 1 1\n",
      "INFO:tensorflow:segment_ids: 0 0 0 0 0 0 0 0 0 0 0 0 0 0 0 0 0 0 0 0 0 0 0 0 0 0 0 0 0 0 0 0 0 0 0 0 0 0 0 0 0 0 0 0 0 0 0 0 0 0 0 0 0 0 0 0 0 0 0 0 0 0 0 0 0 0 0 0 0 0 0 0 0 0 0 0 0 0 0 0 0 0 0 0 0 0 0 0 0 0 0 0 0 0 0 0 0 0 0 0 0 0 0 0 0 0 0 0 0 0 0 0 0 0 0 0 0 0 0 0 0 0 0 0 0 0 0 0\n",
      "INFO:tensorflow:*** Example ***\n",
      "INFO:tensorflow:guid: train-2\n",
      "INFO:tensorflow:tokens: [CLS] this isn ' t really a review , they ' re just batteries after all , but i did want to alleviate something that had confused me . if you look at the picture it ' s hard to tell that these are lithium . from what i understand all cr ##12 ##3 batteries are . what threw me off was the packaging in the product picture , which is different than en ##er ##gi ##zer ' s current packaging for lithium batteries . when the batteries arrived , however they were the expected type and in the newer packaging . [SEP]\n",
      "INFO:tensorflow:input_ids: 101 2023 3475 1005 1056 2428 1037 3319 1010 2027 1005 2128 2074 10274 2044 2035 1010 2021 1045 2106 2215 2000 24251 2242 2008 2018 5457 2033 1012 2065 2017 2298 2012 1996 3861 2009 1005 1055 2524 2000 2425 2008 2122 2024 22157 1012 2013 2054 1045 3305 2035 13675 12521 2509 10274 2024 1012 2054 4711 2033 2125 2001 1996 14793 1999 1996 4031 3861 1010 2029 2003 2367 2084 4372 2121 5856 6290 1005 1055 2783 14793 2005 22157 10274 1012 2043 1996 10274 3369 1010 2174 2027 2020 1996 3517 2828 1998 1999 1996 10947 14793 1012 102 0 0 0 0 0 0 0 0 0 0 0 0 0 0 0 0 0 0 0 0 0 0 0 0 0\n",
      "INFO:tensorflow:input_mask: 1 1 1 1 1 1 1 1 1 1 1 1 1 1 1 1 1 1 1 1 1 1 1 1 1 1 1 1 1 1 1 1 1 1 1 1 1 1 1 1 1 1 1 1 1 1 1 1 1 1 1 1 1 1 1 1 1 1 1 1 1 1 1 1 1 1 1 1 1 1 1 1 1 1 1 1 1 1 1 1 1 1 1 1 1 1 1 1 1 1 1 1 1 1 1 1 1 1 1 1 1 1 1 0 0 0 0 0 0 0 0 0 0 0 0 0 0 0 0 0 0 0 0 0 0 0 0 0\n",
      "INFO:tensorflow:segment_ids: 0 0 0 0 0 0 0 0 0 0 0 0 0 0 0 0 0 0 0 0 0 0 0 0 0 0 0 0 0 0 0 0 0 0 0 0 0 0 0 0 0 0 0 0 0 0 0 0 0 0 0 0 0 0 0 0 0 0 0 0 0 0 0 0 0 0 0 0 0 0 0 0 0 0 0 0 0 0 0 0 0 0 0 0 0 0 0 0 0 0 0 0 0 0 0 0 0 0 0 0 0 0 0 0 0 0 0 0 0 0 0 0 0 0 0 0 0 0 0 0 0 0 0 0 0 0 0 0\n",
      "INFO:tensorflow:*** Example ***\n",
      "INFO:tensorflow:guid: train-3\n",
      "INFO:tensorflow:tokens: [CLS] i just got this yesterday from amazon . i got the orange model because it just looks so st ##yl ##ish ( in picture and , indeed , in person ) . this is to be my backup compact camera , when i don ' t have my beloved fuji ##film fine ##pi ##x f ##30 6 ##mp camera with me . ( compared to the f ##30 , the v ##10 is taller but thinner and shorter . they weigh about the same , i think . ) here ' re my initial impressions : picture quality : very good outdoors during the day , and average / above - average indoors . fuji ##film ( aka fuji ) has produced a line of compact [SEP]\n",
      "INFO:tensorflow:input_ids: 101 1045 2074 2288 2023 7483 2013 9733 1012 1045 2288 1996 4589 2944 2138 2009 2074 3504 2061 2358 8516 4509 1006 1999 3861 1998 1010 5262 1010 1999 2711 1007 1012 2023 2003 2000 2022 2026 10200 9233 4950 1010 2043 1045 2123 1005 1056 2031 2026 11419 20933 23665 2986 8197 2595 1042 14142 1020 8737 4950 2007 2033 1012 1006 4102 2000 1996 1042 14142 1010 1996 1058 10790 2003 12283 2021 23082 1998 7820 1012 2027 17042 2055 1996 2168 1010 1045 2228 1012 1007 2182 1005 2128 2026 3988 19221 1024 3861 3737 1024 2200 2204 19350 2076 1996 2154 1010 1998 2779 1013 2682 1011 2779 24274 1012 20933 23665 1006 9875 20933 1007 2038 2550 1037 2240 1997 9233 102\n",
      "INFO:tensorflow:input_mask: 1 1 1 1 1 1 1 1 1 1 1 1 1 1 1 1 1 1 1 1 1 1 1 1 1 1 1 1 1 1 1 1 1 1 1 1 1 1 1 1 1 1 1 1 1 1 1 1 1 1 1 1 1 1 1 1 1 1 1 1 1 1 1 1 1 1 1 1 1 1 1 1 1 1 1 1 1 1 1 1 1 1 1 1 1 1 1 1 1 1 1 1 1 1 1 1 1 1 1 1 1 1 1 1 1 1 1 1 1 1 1 1 1 1 1 1 1 1 1 1 1 1 1 1 1 1 1 1\n",
      "INFO:tensorflow:segment_ids: 0 0 0 0 0 0 0 0 0 0 0 0 0 0 0 0 0 0 0 0 0 0 0 0 0 0 0 0 0 0 0 0 0 0 0 0 0 0 0 0 0 0 0 0 0 0 0 0 0 0 0 0 0 0 0 0 0 0 0 0 0 0 0 0 0 0 0 0 0 0 0 0 0 0 0 0 0 0 0 0 0 0 0 0 0 0 0 0 0 0 0 0 0 0 0 0 0 0 0 0 0 0 0 0 0 0 0 0 0 0 0 0 0 0 0 0 0 0 0 0 0 0 0 0 0 0 0 0\n",
      "INFO:tensorflow:*** Example ***\n",
      "INFO:tensorflow:guid: train-4\n",
      "INFO:tensorflow:tokens: [CLS] just bought the bel 95 ##5 to replace my bel 980 . from what i have read the 95 ##5 gives all the advanced detection of more expensive bel products , with some lacking features that you may not miss . compared to my old 980 , the 95 ##5 has much , much less false alert ##s and seems to pick up k and ka radar much sooner . it is also very easy to program , but to be honest the factory settings are great and not much needs to be changed . the new auto - quiet feature is very nice . with this you get the alert at the sound level you picked , then it automatically goes softer after a few [SEP]\n",
      "INFO:tensorflow:input_ids: 101 2074 4149 1996 19337 5345 2629 2000 5672 2026 19337 25195 1012 2013 2054 1045 2031 3191 1996 5345 2629 3957 2035 1996 3935 10788 1997 2062 6450 19337 3688 1010 2007 2070 11158 2838 2008 2017 2089 2025 3335 1012 4102 2000 2026 2214 25195 1010 1996 5345 2629 2038 2172 1010 2172 2625 6270 9499 2015 1998 3849 2000 4060 2039 1047 1998 10556 7217 2172 10076 1012 2009 2003 2036 2200 3733 2000 2565 1010 2021 2000 2022 7481 1996 4713 10906 2024 2307 1998 2025 2172 3791 2000 2022 2904 1012 1996 2047 8285 1011 4251 3444 2003 2200 3835 1012 2007 2023 2017 2131 1996 9499 2012 1996 2614 2504 2017 3856 1010 2059 2009 8073 3632 19013 2044 1037 2261 102\n",
      "INFO:tensorflow:input_mask: 1 1 1 1 1 1 1 1 1 1 1 1 1 1 1 1 1 1 1 1 1 1 1 1 1 1 1 1 1 1 1 1 1 1 1 1 1 1 1 1 1 1 1 1 1 1 1 1 1 1 1 1 1 1 1 1 1 1 1 1 1 1 1 1 1 1 1 1 1 1 1 1 1 1 1 1 1 1 1 1 1 1 1 1 1 1 1 1 1 1 1 1 1 1 1 1 1 1 1 1 1 1 1 1 1 1 1 1 1 1 1 1 1 1 1 1 1 1 1 1 1 1 1 1 1 1 1 1\n",
      "INFO:tensorflow:segment_ids: 0 0 0 0 0 0 0 0 0 0 0 0 0 0 0 0 0 0 0 0 0 0 0 0 0 0 0 0 0 0 0 0 0 0 0 0 0 0 0 0 0 0 0 0 0 0 0 0 0 0 0 0 0 0 0 0 0 0 0 0 0 0 0 0 0 0 0 0 0 0 0 0 0 0 0 0 0 0 0 0 0 0 0 0 0 0 0 0 0 0 0 0 0 0 0 0 0 0 0 0 0 0 0 0 0 0 0 0 0 0 0 0 0 0 0 0 0 0 0 0 0 0 0 0 0 0 0 0\n",
      "INFO:tensorflow:Writing example 10000 of 33500\n",
      "INFO:tensorflow:Writing example 20000 of 33500\n",
      "INFO:tensorflow:Writing example 30000 of 33500\n"
     ]
    }
   ],
   "source": [
    "train_examples = processor.get_train_examples(DATA_DIR)\n",
    "\n",
    "train_features = run_regressor.convert_examples_to_features(train_examples,max_seq_length=max_seq_length,tokenizer=tokenizer)\n",
    "\n",
    "train_input_fn = input_fn_builder(train_features,max_seq_length,is_training=True,drop_remainder=True)"
   ]
  },
  {
   "cell_type": "code",
   "execution_count": 22,
   "metadata": {},
   "outputs": [
    {
     "name": "stdout",
     "output_type": "stream",
     "text": [
      "INFO:tensorflow:Writing example 0 of 16500\n",
      "INFO:tensorflow:*** Example ***\n",
      "INFO:tensorflow:guid: dev-0\n",
      "INFO:tensorflow:tokens: [CLS] as another person coming from the official un - lit leather case ( due to the re ##boot ##ing issue that caused it to be pulled from amazon ' s store ) i wanted something similar , without a light , that didn ' t use the battery bay clips causing all the issues . i finally stumbled upon this case and decided to take a chance based on other reviews . i consider myself \" spoiled \" by the simplicity and design of the old official leather case , so weed ##ing through the multitude of low - quality or over - the - top cases available , i was glad to see on manufacturer focusing on a simple yet well - built case . [SEP]\n",
      "INFO:tensorflow:input_ids: 101 2004 2178 2711 2746 2013 1996 2880 4895 1011 5507 5898 2553 1006 2349 2000 1996 2128 27927 2075 3277 2008 3303 2009 2000 2022 2766 2013 9733 1005 1055 3573 1007 1045 2359 2242 2714 1010 2302 1037 2422 1010 2008 2134 1005 1056 2224 1996 6046 3016 15281 4786 2035 1996 3314 1012 1045 2633 9845 2588 2023 2553 1998 2787 2000 2202 1037 3382 2241 2006 2060 4391 1012 1045 5136 2870 1000 19582 1000 2011 1996 17839 1998 2640 1997 1996 2214 2880 5898 2553 1010 2061 17901 2075 2083 1996 20889 1997 2659 1011 3737 2030 2058 1011 1996 1011 2327 3572 2800 1010 1045 2001 5580 2000 2156 2006 7751 7995 2006 1037 3722 2664 2092 1011 2328 2553 1012 102\n",
      "INFO:tensorflow:input_mask: 1 1 1 1 1 1 1 1 1 1 1 1 1 1 1 1 1 1 1 1 1 1 1 1 1 1 1 1 1 1 1 1 1 1 1 1 1 1 1 1 1 1 1 1 1 1 1 1 1 1 1 1 1 1 1 1 1 1 1 1 1 1 1 1 1 1 1 1 1 1 1 1 1 1 1 1 1 1 1 1 1 1 1 1 1 1 1 1 1 1 1 1 1 1 1 1 1 1 1 1 1 1 1 1 1 1 1 1 1 1 1 1 1 1 1 1 1 1 1 1 1 1 1 1 1 1 1 1\n",
      "INFO:tensorflow:segment_ids: 0 0 0 0 0 0 0 0 0 0 0 0 0 0 0 0 0 0 0 0 0 0 0 0 0 0 0 0 0 0 0 0 0 0 0 0 0 0 0 0 0 0 0 0 0 0 0 0 0 0 0 0 0 0 0 0 0 0 0 0 0 0 0 0 0 0 0 0 0 0 0 0 0 0 0 0 0 0 0 0 0 0 0 0 0 0 0 0 0 0 0 0 0 0 0 0 0 0 0 0 0 0 0 0 0 0 0 0 0 0 0 0 0 0 0 0 0 0 0 0 0 0 0 0 0 0 0 0\n",
      "INFO:tensorflow:*** Example ***\n",
      "INFO:tensorflow:guid: dev-1\n",
      "INFO:tensorflow:tokens: [CLS] . . . this is it . sync ' ing with multiple computers or the web to back up your important data is fine - - when you ' re next to a computer to perform the sync . but if your batteries suddenly die and and you have to completely restore , murphy ' s law will have it that you ' re not next to your computer when that happens . the backup module reduces that possibility by neatly sitting in the vis ##or ' s spring ##board slot . the 1 - button backup and restore makes it easy to backup and restore . it is a great complement to your normal backup routines with hot ##sy ##nc ' ing . [SEP]\n",
      "INFO:tensorflow:input_ids: 101 1012 1012 1012 2023 2003 2009 1012 26351 1005 13749 2007 3674 7588 2030 1996 4773 2000 2067 2039 2115 2590 2951 2003 2986 1011 1011 2043 2017 1005 2128 2279 2000 1037 3274 2000 4685 1996 26351 1012 2021 2065 2115 10274 3402 3280 1998 1998 2017 2031 2000 3294 9239 1010 7104 1005 1055 2375 2097 2031 2009 2008 2017 1005 2128 2025 2279 2000 2115 3274 2043 2008 6433 1012 1996 10200 11336 13416 2008 6061 2011 15981 3564 1999 1996 25292 2953 1005 1055 3500 6277 10453 1012 1996 1015 1011 6462 10200 1998 9239 3084 2009 3733 2000 10200 1998 9239 1012 2009 2003 1037 2307 13711 2000 2115 3671 10200 23964 2007 2980 6508 12273 1005 13749 1012 102 0 0\n",
      "INFO:tensorflow:input_mask: 1 1 1 1 1 1 1 1 1 1 1 1 1 1 1 1 1 1 1 1 1 1 1 1 1 1 1 1 1 1 1 1 1 1 1 1 1 1 1 1 1 1 1 1 1 1 1 1 1 1 1 1 1 1 1 1 1 1 1 1 1 1 1 1 1 1 1 1 1 1 1 1 1 1 1 1 1 1 1 1 1 1 1 1 1 1 1 1 1 1 1 1 1 1 1 1 1 1 1 1 1 1 1 1 1 1 1 1 1 1 1 1 1 1 1 1 1 1 1 1 1 1 1 1 1 1 0 0\n",
      "INFO:tensorflow:segment_ids: 0 0 0 0 0 0 0 0 0 0 0 0 0 0 0 0 0 0 0 0 0 0 0 0 0 0 0 0 0 0 0 0 0 0 0 0 0 0 0 0 0 0 0 0 0 0 0 0 0 0 0 0 0 0 0 0 0 0 0 0 0 0 0 0 0 0 0 0 0 0 0 0 0 0 0 0 0 0 0 0 0 0 0 0 0 0 0 0 0 0 0 0 0 0 0 0 0 0 0 0 0 0 0 0 0 0 0 0 0 0 0 0 0 0 0 0 0 0 0 0 0 0 0 0 0 0 0 0\n",
      "INFO:tensorflow:*** Example ***\n",
      "INFO:tensorflow:guid: dev-2\n",
      "INFO:tensorflow:tokens: [CLS] i ordered this along with my ga ##rmin nu ##vi 76 ##5 ##t and it never worked . thankfully , amazon did it ' s usual superb job of replacing it with just a few mouse clicks . when the replacement arrived it was of a much simpler design and worked just fine . detail : the original version i got had a slot in the back of the plug - in unit into which various plug ##s could be inserted to adapt it for the appropriate country / voltage / etc . my guess is that the connection between the adapt ##er and the unit were not good and so it just didn ' t work . the replacement unit which i received was made [SEP]\n",
      "INFO:tensorflow:input_ids: 101 1045 3641 2023 2247 2007 2026 11721 27512 16371 5737 6146 2629 2102 1998 2009 2196 2499 1012 16047 1010 9733 2106 2009 1005 1055 5156 21688 3105 1997 6419 2009 2007 2074 1037 2261 8000 29225 1012 2043 1996 6110 3369 2009 2001 1997 1037 2172 16325 2640 1998 2499 2074 2986 1012 6987 1024 1996 2434 2544 1045 2288 2018 1037 10453 1999 1996 2067 1997 1996 13354 1011 1999 3131 2046 2029 2536 13354 2015 2071 2022 12889 2000 15581 2009 2005 1996 6413 2406 1013 10004 1013 4385 1012 2026 3984 2003 2008 1996 4434 2090 1996 15581 2121 1998 1996 3131 2020 2025 2204 1998 2061 2009 2074 2134 1005 1056 2147 1012 1996 6110 3131 2029 1045 2363 2001 2081 102\n",
      "INFO:tensorflow:input_mask: 1 1 1 1 1 1 1 1 1 1 1 1 1 1 1 1 1 1 1 1 1 1 1 1 1 1 1 1 1 1 1 1 1 1 1 1 1 1 1 1 1 1 1 1 1 1 1 1 1 1 1 1 1 1 1 1 1 1 1 1 1 1 1 1 1 1 1 1 1 1 1 1 1 1 1 1 1 1 1 1 1 1 1 1 1 1 1 1 1 1 1 1 1 1 1 1 1 1 1 1 1 1 1 1 1 1 1 1 1 1 1 1 1 1 1 1 1 1 1 1 1 1 1 1 1 1 1 1\n",
      "INFO:tensorflow:segment_ids: 0 0 0 0 0 0 0 0 0 0 0 0 0 0 0 0 0 0 0 0 0 0 0 0 0 0 0 0 0 0 0 0 0 0 0 0 0 0 0 0 0 0 0 0 0 0 0 0 0 0 0 0 0 0 0 0 0 0 0 0 0 0 0 0 0 0 0 0 0 0 0 0 0 0 0 0 0 0 0 0 0 0 0 0 0 0 0 0 0 0 0 0 0 0 0 0 0 0 0 0 0 0 0 0 0 0 0 0 0 0 0 0 0 0 0 0 0 0 0 0 0 0 0 0 0 0 0 0\n",
      "INFO:tensorflow:*** Example ***\n",
      "INFO:tensorflow:guid: dev-3\n",
      "INFO:tensorflow:tokens: [CLS] i would love to give this device a good review . when we got it , it was well - packaged , well - constructed , and seemed to work right away out of the box . all in all , it seemed to be a good design . unfortunately , it turns out that the good hardware design is cancelled out by g ##lit ##ches that make this device useless to us . the second screen ( the one plug ##ged into this device ) repeatedly locks up , freezing as if put on pause . sometimes even the mouse pointer is visible on the screen but doesn ' t respond to mouse movement ( although the main screen continues to work fine ) . [SEP]\n",
      "INFO:tensorflow:input_ids: 101 1045 2052 2293 2000 2507 2023 5080 1037 2204 3319 1012 2043 2057 2288 2009 1010 2009 2001 2092 1011 21972 1010 2092 1011 3833 1010 1998 2790 2000 2147 2157 2185 2041 1997 1996 3482 1012 2035 1999 2035 1010 2009 2790 2000 2022 1037 2204 2640 1012 6854 1010 2009 4332 2041 2008 1996 2204 8051 2640 2003 8014 2041 2011 1043 15909 8376 2008 2191 2023 5080 11809 2000 2149 1012 1996 2117 3898 1006 1996 2028 13354 5999 2046 2023 5080 1007 8385 11223 2039 1010 12809 2004 2065 2404 2006 8724 1012 2823 2130 1996 8000 20884 2003 5710 2006 1996 3898 2021 2987 1005 1056 6869 2000 8000 2929 1006 2348 1996 2364 3898 4247 2000 2147 2986 1007 1012 102\n",
      "INFO:tensorflow:input_mask: 1 1 1 1 1 1 1 1 1 1 1 1 1 1 1 1 1 1 1 1 1 1 1 1 1 1 1 1 1 1 1 1 1 1 1 1 1 1 1 1 1 1 1 1 1 1 1 1 1 1 1 1 1 1 1 1 1 1 1 1 1 1 1 1 1 1 1 1 1 1 1 1 1 1 1 1 1 1 1 1 1 1 1 1 1 1 1 1 1 1 1 1 1 1 1 1 1 1 1 1 1 1 1 1 1 1 1 1 1 1 1 1 1 1 1 1 1 1 1 1 1 1 1 1 1 1 1 1\n",
      "INFO:tensorflow:segment_ids: 0 0 0 0 0 0 0 0 0 0 0 0 0 0 0 0 0 0 0 0 0 0 0 0 0 0 0 0 0 0 0 0 0 0 0 0 0 0 0 0 0 0 0 0 0 0 0 0 0 0 0 0 0 0 0 0 0 0 0 0 0 0 0 0 0 0 0 0 0 0 0 0 0 0 0 0 0 0 0 0 0 0 0 0 0 0 0 0 0 0 0 0 0 0 0 0 0 0 0 0 0 0 0 0 0 0 0 0 0 0 0 0 0 0 0 0 0 0 0 0 0 0 0 0 0 0 0 0\n",
      "INFO:tensorflow:*** Example ***\n",
      "INFO:tensorflow:guid: dev-4\n",
      "INFO:tensorflow:tokens: [CLS] fuji fine ##pi ##x s ##45 ##00 - 14 mp , 30 ##x zoom , 3 \" lcd screen , 4 aa bat ##eries , camera strap , lens cover with hanging loop and cables to hook to the tv in the box . it weighs almost a pound , but with the strap - it ' s fine . our new fuji is an awesome , well - priced higher - end camera with lost of features . only had it a week , but it has point & shoot features for those who are fairly new to digital , plus many high - end features for someone who is really an advanced photographer . i love this camera ! ! our nik ##on 8 [SEP]\n",
      "INFO:tensorflow:input_ids: 101 20933 2986 8197 2595 1055 19961 8889 1011 2403 6131 1010 2382 2595 24095 1010 1017 1000 27662 3898 1010 1018 9779 7151 28077 1010 4950 16195 1010 10014 3104 2007 5689 7077 1998 15196 2000 8103 2000 1996 2694 1999 1996 3482 1012 2009 21094 2471 1037 9044 1010 2021 2007 1996 16195 1011 2009 1005 1055 2986 1012 2256 2047 20933 2003 2019 12476 1010 2092 1011 21125 3020 1011 2203 4950 2007 2439 1997 2838 1012 2069 2018 2009 1037 2733 1010 2021 2009 2038 2391 1004 5607 2838 2005 2216 2040 2024 7199 2047 2000 3617 1010 4606 2116 2152 1011 2203 2838 2005 2619 2040 2003 2428 2019 3935 8088 1012 1045 2293 2023 4950 999 999 2256 23205 2239 1022 102\n",
      "INFO:tensorflow:input_mask: 1 1 1 1 1 1 1 1 1 1 1 1 1 1 1 1 1 1 1 1 1 1 1 1 1 1 1 1 1 1 1 1 1 1 1 1 1 1 1 1 1 1 1 1 1 1 1 1 1 1 1 1 1 1 1 1 1 1 1 1 1 1 1 1 1 1 1 1 1 1 1 1 1 1 1 1 1 1 1 1 1 1 1 1 1 1 1 1 1 1 1 1 1 1 1 1 1 1 1 1 1 1 1 1 1 1 1 1 1 1 1 1 1 1 1 1 1 1 1 1 1 1 1 1 1 1 1 1\n",
      "INFO:tensorflow:segment_ids: 0 0 0 0 0 0 0 0 0 0 0 0 0 0 0 0 0 0 0 0 0 0 0 0 0 0 0 0 0 0 0 0 0 0 0 0 0 0 0 0 0 0 0 0 0 0 0 0 0 0 0 0 0 0 0 0 0 0 0 0 0 0 0 0 0 0 0 0 0 0 0 0 0 0 0 0 0 0 0 0 0 0 0 0 0 0 0 0 0 0 0 0 0 0 0 0 0 0 0 0 0 0 0 0 0 0 0 0 0 0 0 0 0 0 0 0 0 0 0 0 0 0 0 0 0 0 0 0\n",
      "INFO:tensorflow:Writing example 10000 of 16500\n"
     ]
    }
   ],
   "source": [
    "eval_examples = processor.get_dev_examples(DATA_DIR)\n",
    "eval_features = run_regressor.convert_examples_to_features(eval_examples,max_seq_length=max_seq_length,tokenizer=tokenizer)\n",
    "# This tells the estimator to run through the entire set.\n",
    "eval_steps = None\n",
    "eval_input_fn = input_fn_builder(eval_features,max_seq_length,is_training=False,drop_remainder=False)"
   ]
  },
  {
   "cell_type": "code",
   "execution_count": 23,
   "metadata": {},
   "outputs": [
    {
     "name": "stdout",
     "output_type": "stream",
     "text": [
      "INFO:tensorflow:Calling model_fn.\n",
      "INFO:tensorflow:Running train on CPU\n",
      "INFO:tensorflow:Done calling model_fn.\n",
      "INFO:tensorflow:Create CheckpointSaverHook.\n",
      "INFO:tensorflow:Graph was finalized.\n",
      "INFO:tensorflow:Restoring parameters from /home/ubuntu/tmp/bert_TrEv/model.ckpt-0\n",
      "INFO:tensorflow:Running local_init_op.\n",
      "INFO:tensorflow:Done running local_init_op.\n",
      "INFO:tensorflow:Saving checkpoints for 0 into /home/ubuntu/tmp/bert_TrEv/model.ckpt.\n",
      "INFO:tensorflow:Saving checkpoints for 100 into /home/ubuntu/tmp/bert_TrEv/model.ckpt.\n",
      "INFO:tensorflow:Loss for final step: 0.03993911.\n",
      "INFO:tensorflow:training_loop marked as finished\n",
      "INFO:tensorflow:Calling model_fn.\n",
      "INFO:tensorflow:Running eval on CPU\n",
      "INFO:tensorflow:Done calling model_fn.\n",
      "INFO:tensorflow:Starting evaluation at 2018-12-31-08:53:24\n",
      "INFO:tensorflow:Graph was finalized.\n",
      "INFO:tensorflow:Restoring parameters from /home/ubuntu/tmp/bert_TrEv/model.ckpt-100\n",
      "INFO:tensorflow:Running local_init_op.\n",
      "INFO:tensorflow:Done running local_init_op.\n",
      "INFO:tensorflow:Finished evaluation at 2018-12-31-08:58:41\n",
      "INFO:tensorflow:Saving dict for global step 100: eval_loss = 0.045444958, global_step = 100, loss = 0.04544542\n",
      "INFO:tensorflow:Saving 'checkpoint_path' summary for global step 100: /home/ubuntu/tmp/bert_TrEv/model.ckpt-100\n",
      "INFO:tensorflow:evaluation_loop marked as finished\n",
      "ステップ：100\n",
      "{'eval_loss': 0.045444958, 'loss': 0.04544542, 'global_step': 100}\n",
      "INFO:tensorflow:Calling model_fn.\n",
      "INFO:tensorflow:Running train on CPU\n",
      "INFO:tensorflow:Done calling model_fn.\n",
      "INFO:tensorflow:Create CheckpointSaverHook.\n",
      "INFO:tensorflow:Graph was finalized.\n",
      "INFO:tensorflow:Restoring parameters from /home/ubuntu/tmp/bert_TrEv/model.ckpt-100\n",
      "INFO:tensorflow:Running local_init_op.\n",
      "INFO:tensorflow:Done running local_init_op.\n",
      "INFO:tensorflow:Saving checkpoints for 100 into /home/ubuntu/tmp/bert_TrEv/model.ckpt.\n",
      "INFO:tensorflow:Saving checkpoints for 200 into /home/ubuntu/tmp/bert_TrEv/model.ckpt.\n",
      "INFO:tensorflow:Loss for final step: 0.04796927.\n",
      "INFO:tensorflow:training_loop marked as finished\n",
      "INFO:tensorflow:Calling model_fn.\n",
      "INFO:tensorflow:Running eval on CPU\n",
      "INFO:tensorflow:Done calling model_fn.\n",
      "INFO:tensorflow:Starting evaluation at 2018-12-31-09:03:14\n",
      "INFO:tensorflow:Graph was finalized.\n",
      "INFO:tensorflow:Restoring parameters from /home/ubuntu/tmp/bert_TrEv/model.ckpt-200\n",
      "INFO:tensorflow:Running local_init_op.\n",
      "INFO:tensorflow:Done running local_init_op.\n",
      "INFO:tensorflow:Finished evaluation at 2018-12-31-09:08:32\n",
      "INFO:tensorflow:Saving dict for global step 200: eval_loss = 0.03674888, global_step = 200, loss = 0.036746137\n",
      "INFO:tensorflow:Saving 'checkpoint_path' summary for global step 200: /home/ubuntu/tmp/bert_TrEv/model.ckpt-200\n",
      "INFO:tensorflow:evaluation_loop marked as finished\n",
      "ステップ：200\n",
      "{'eval_loss': 0.03674888, 'loss': 0.036746137, 'global_step': 200}\n",
      "INFO:tensorflow:Calling model_fn.\n",
      "INFO:tensorflow:Running train on CPU\n",
      "INFO:tensorflow:Done calling model_fn.\n",
      "INFO:tensorflow:Create CheckpointSaverHook.\n",
      "INFO:tensorflow:Graph was finalized.\n",
      "INFO:tensorflow:Restoring parameters from /home/ubuntu/tmp/bert_TrEv/model.ckpt-200\n",
      "INFO:tensorflow:Running local_init_op.\n",
      "INFO:tensorflow:Done running local_init_op.\n",
      "INFO:tensorflow:Saving checkpoints for 200 into /home/ubuntu/tmp/bert_TrEv/model.ckpt.\n",
      "INFO:tensorflow:Saving checkpoints for 300 into /home/ubuntu/tmp/bert_TrEv/model.ckpt.\n",
      "INFO:tensorflow:Loss for final step: 0.028724585.\n",
      "INFO:tensorflow:training_loop marked as finished\n",
      "INFO:tensorflow:Calling model_fn.\n",
      "INFO:tensorflow:Running eval on CPU\n",
      "INFO:tensorflow:Done calling model_fn.\n",
      "INFO:tensorflow:Starting evaluation at 2018-12-31-09:13:03\n",
      "INFO:tensorflow:Graph was finalized.\n",
      "INFO:tensorflow:Restoring parameters from /home/ubuntu/tmp/bert_TrEv/model.ckpt-300\n",
      "INFO:tensorflow:Running local_init_op.\n",
      "INFO:tensorflow:Done running local_init_op.\n",
      "INFO:tensorflow:Finished evaluation at 2018-12-31-09:18:21\n",
      "INFO:tensorflow:Saving dict for global step 300: eval_loss = 0.037033662, global_step = 300, loss = 0.037027743\n",
      "INFO:tensorflow:Saving 'checkpoint_path' summary for global step 300: /home/ubuntu/tmp/bert_TrEv/model.ckpt-300\n",
      "INFO:tensorflow:evaluation_loop marked as finished\n",
      "ステップ：300\n",
      "{'eval_loss': 0.037033662, 'loss': 0.037027743, 'global_step': 300}\n",
      "INFO:tensorflow:Calling model_fn.\n",
      "INFO:tensorflow:Running train on CPU\n",
      "INFO:tensorflow:Done calling model_fn.\n",
      "INFO:tensorflow:Create CheckpointSaverHook.\n",
      "INFO:tensorflow:Graph was finalized.\n",
      "INFO:tensorflow:Restoring parameters from /home/ubuntu/tmp/bert_TrEv/model.ckpt-300\n",
      "INFO:tensorflow:Running local_init_op.\n",
      "INFO:tensorflow:Done running local_init_op.\n",
      "INFO:tensorflow:Saving checkpoints for 300 into /home/ubuntu/tmp/bert_TrEv/model.ckpt.\n",
      "INFO:tensorflow:Saving checkpoints for 400 into /home/ubuntu/tmp/bert_TrEv/model.ckpt.\n",
      "INFO:tensorflow:Loss for final step: 0.009519731.\n",
      "INFO:tensorflow:training_loop marked as finished\n",
      "INFO:tensorflow:Calling model_fn.\n",
      "INFO:tensorflow:Running eval on CPU\n",
      "INFO:tensorflow:Done calling model_fn.\n",
      "INFO:tensorflow:Starting evaluation at 2018-12-31-09:22:52\n",
      "INFO:tensorflow:Graph was finalized.\n",
      "INFO:tensorflow:Restoring parameters from /home/ubuntu/tmp/bert_TrEv/model.ckpt-400\n",
      "INFO:tensorflow:Running local_init_op.\n",
      "INFO:tensorflow:Done running local_init_op.\n",
      "INFO:tensorflow:Finished evaluation at 2018-12-31-09:28:09\n",
      "INFO:tensorflow:Saving dict for global step 400: eval_loss = 0.039462194, global_step = 400, loss = 0.03944792\n",
      "INFO:tensorflow:Saving 'checkpoint_path' summary for global step 400: /home/ubuntu/tmp/bert_TrEv/model.ckpt-400\n",
      "INFO:tensorflow:evaluation_loop marked as finished\n",
      "ステップ：400\n",
      "{'eval_loss': 0.039462194, 'loss': 0.03944792, 'global_step': 400}\n",
      "INFO:tensorflow:Calling model_fn.\n",
      "INFO:tensorflow:Running train on CPU\n",
      "INFO:tensorflow:Done calling model_fn.\n",
      "INFO:tensorflow:Create CheckpointSaverHook.\n",
      "INFO:tensorflow:Graph was finalized.\n",
      "INFO:tensorflow:Restoring parameters from /home/ubuntu/tmp/bert_TrEv/model.ckpt-400\n",
      "INFO:tensorflow:Running local_init_op.\n",
      "INFO:tensorflow:Done running local_init_op.\n",
      "INFO:tensorflow:Saving checkpoints for 400 into /home/ubuntu/tmp/bert_TrEv/model.ckpt.\n",
      "INFO:tensorflow:Saving checkpoints for 500 into /home/ubuntu/tmp/bert_TrEv/model.ckpt.\n",
      "INFO:tensorflow:Loss for final step: 0.023045301.\n",
      "INFO:tensorflow:training_loop marked as finished\n",
      "INFO:tensorflow:Calling model_fn.\n",
      "INFO:tensorflow:Running eval on CPU\n",
      "INFO:tensorflow:Done calling model_fn.\n",
      "INFO:tensorflow:Starting evaluation at 2018-12-31-09:32:40\n",
      "INFO:tensorflow:Graph was finalized.\n",
      "INFO:tensorflow:Restoring parameters from /home/ubuntu/tmp/bert_TrEv/model.ckpt-500\n",
      "INFO:tensorflow:Running local_init_op.\n",
      "INFO:tensorflow:Done running local_init_op.\n",
      "INFO:tensorflow:Finished evaluation at 2018-12-31-09:37:58\n",
      "INFO:tensorflow:Saving dict for global step 500: eval_loss = 0.03548828, global_step = 500, loss = 0.035483338\n",
      "INFO:tensorflow:Saving 'checkpoint_path' summary for global step 500: /home/ubuntu/tmp/bert_TrEv/model.ckpt-500\n",
      "INFO:tensorflow:evaluation_loop marked as finished\n",
      "ステップ：500\n",
      "{'eval_loss': 0.03548828, 'loss': 0.035483338, 'global_step': 500}\n",
      "INFO:tensorflow:Calling model_fn.\n",
      "INFO:tensorflow:Running train on CPU\n",
      "INFO:tensorflow:Done calling model_fn.\n",
      "INFO:tensorflow:Create CheckpointSaverHook.\n",
      "INFO:tensorflow:Graph was finalized.\n",
      "INFO:tensorflow:Restoring parameters from /home/ubuntu/tmp/bert_TrEv/model.ckpt-500\n",
      "INFO:tensorflow:Running local_init_op.\n",
      "INFO:tensorflow:Done running local_init_op.\n",
      "INFO:tensorflow:Saving checkpoints for 500 into /home/ubuntu/tmp/bert_TrEv/model.ckpt.\n",
      "INFO:tensorflow:Saving checkpoints for 600 into /home/ubuntu/tmp/bert_TrEv/model.ckpt.\n",
      "INFO:tensorflow:Loss for final step: 0.020410642.\n",
      "INFO:tensorflow:training_loop marked as finished\n",
      "INFO:tensorflow:Calling model_fn.\n",
      "INFO:tensorflow:Running eval on CPU\n",
      "INFO:tensorflow:Done calling model_fn.\n",
      "INFO:tensorflow:Starting evaluation at 2018-12-31-09:42:29\n",
      "INFO:tensorflow:Graph was finalized.\n",
      "INFO:tensorflow:Restoring parameters from /home/ubuntu/tmp/bert_TrEv/model.ckpt-600\n",
      "INFO:tensorflow:Running local_init_op.\n",
      "INFO:tensorflow:Done running local_init_op.\n",
      "INFO:tensorflow:Finished evaluation at 2018-12-31-09:47:47\n",
      "INFO:tensorflow:Saving dict for global step 600: eval_loss = 0.04640263, global_step = 600, loss = 0.046394445\n",
      "INFO:tensorflow:Saving 'checkpoint_path' summary for global step 600: /home/ubuntu/tmp/bert_TrEv/model.ckpt-600\n",
      "INFO:tensorflow:evaluation_loop marked as finished\n",
      "ステップ：600\n",
      "{'eval_loss': 0.04640263, 'loss': 0.046394445, 'global_step': 600}\n",
      "INFO:tensorflow:Calling model_fn.\n",
      "INFO:tensorflow:Running train on CPU\n",
      "INFO:tensorflow:Done calling model_fn.\n",
      "INFO:tensorflow:Create CheckpointSaverHook.\n",
      "INFO:tensorflow:Graph was finalized.\n",
      "INFO:tensorflow:Restoring parameters from /home/ubuntu/tmp/bert_TrEv/model.ckpt-600\n",
      "INFO:tensorflow:Running local_init_op.\n",
      "INFO:tensorflow:Done running local_init_op.\n",
      "INFO:tensorflow:Saving checkpoints for 600 into /home/ubuntu/tmp/bert_TrEv/model.ckpt.\n",
      "INFO:tensorflow:Saving checkpoints for 700 into /home/ubuntu/tmp/bert_TrEv/model.ckpt.\n",
      "INFO:tensorflow:Loss for final step: 0.011527933.\n",
      "INFO:tensorflow:training_loop marked as finished\n",
      "INFO:tensorflow:Calling model_fn.\n",
      "INFO:tensorflow:Running eval on CPU\n",
      "INFO:tensorflow:Done calling model_fn.\n",
      "INFO:tensorflow:Starting evaluation at 2018-12-31-09:52:17\n",
      "INFO:tensorflow:Graph was finalized.\n",
      "INFO:tensorflow:Restoring parameters from /home/ubuntu/tmp/bert_TrEv/model.ckpt-700\n",
      "INFO:tensorflow:Running local_init_op.\n",
      "INFO:tensorflow:Done running local_init_op.\n",
      "INFO:tensorflow:Finished evaluation at 2018-12-31-09:57:36\n",
      "INFO:tensorflow:Saving dict for global step 700: eval_loss = 0.04941989, global_step = 700, loss = 0.049409322\n",
      "INFO:tensorflow:Saving 'checkpoint_path' summary for global step 700: /home/ubuntu/tmp/bert_TrEv/model.ckpt-700\n",
      "INFO:tensorflow:evaluation_loop marked as finished\n",
      "ステップ：700\n",
      "{'eval_loss': 0.04941989, 'loss': 0.049409322, 'global_step': 700}\n",
      "INFO:tensorflow:Calling model_fn.\n",
      "INFO:tensorflow:Running train on CPU\n",
      "INFO:tensorflow:Done calling model_fn.\n",
      "INFO:tensorflow:Create CheckpointSaverHook.\n",
      "INFO:tensorflow:Graph was finalized.\n",
      "INFO:tensorflow:Restoring parameters from /home/ubuntu/tmp/bert_TrEv/model.ckpt-700\n",
      "INFO:tensorflow:Running local_init_op.\n",
      "INFO:tensorflow:Done running local_init_op.\n",
      "INFO:tensorflow:Saving checkpoints for 700 into /home/ubuntu/tmp/bert_TrEv/model.ckpt.\n",
      "INFO:tensorflow:Saving checkpoints for 800 into /home/ubuntu/tmp/bert_TrEv/model.ckpt.\n",
      "INFO:tensorflow:Loss for final step: 0.008672821.\n",
      "INFO:tensorflow:training_loop marked as finished\n",
      "INFO:tensorflow:Calling model_fn.\n",
      "INFO:tensorflow:Running eval on CPU\n",
      "INFO:tensorflow:Done calling model_fn.\n",
      "INFO:tensorflow:Starting evaluation at 2018-12-31-10:02:06\n",
      "INFO:tensorflow:Graph was finalized.\n",
      "INFO:tensorflow:Restoring parameters from /home/ubuntu/tmp/bert_TrEv/model.ckpt-800\n",
      "INFO:tensorflow:Running local_init_op.\n",
      "INFO:tensorflow:Done running local_init_op.\n",
      "INFO:tensorflow:Finished evaluation at 2018-12-31-10:07:24\n",
      "INFO:tensorflow:Saving dict for global step 800: eval_loss = 0.04153659, global_step = 800, loss = 0.041529033\n",
      "INFO:tensorflow:Saving 'checkpoint_path' summary for global step 800: /home/ubuntu/tmp/bert_TrEv/model.ckpt-800\n",
      "INFO:tensorflow:evaluation_loop marked as finished\n",
      "ステップ：800\n",
      "{'eval_loss': 0.04153659, 'loss': 0.041529033, 'global_step': 800}\n",
      "INFO:tensorflow:Calling model_fn.\n",
      "INFO:tensorflow:Running train on CPU\n",
      "INFO:tensorflow:Done calling model_fn.\n",
      "INFO:tensorflow:Create CheckpointSaverHook.\n",
      "INFO:tensorflow:Graph was finalized.\n",
      "INFO:tensorflow:Restoring parameters from /home/ubuntu/tmp/bert_TrEv/model.ckpt-800\n",
      "INFO:tensorflow:Running local_init_op.\n",
      "INFO:tensorflow:Done running local_init_op.\n",
      "INFO:tensorflow:Saving checkpoints for 800 into /home/ubuntu/tmp/bert_TrEv/model.ckpt.\n",
      "INFO:tensorflow:training_loop marked as finished\n"
     ]
    },
    {
     "ename": "KeyboardInterrupt",
     "evalue": "",
     "output_type": "error",
     "traceback": [
      "\u001b[0;31m---------------------------------------------------------------------------\u001b[0m",
      "\u001b[0;31mKeyboardInterrupt\u001b[0m                         Traceback (most recent call last)",
      "\u001b[0;32m<ipython-input-23-32a50d8c2038>\u001b[0m in \u001b[0;36m<module>\u001b[0;34m()\u001b[0m\n\u001b[1;32m      1\u001b[0m \u001b[0mcurrent_step\u001b[0m \u001b[0;34m=\u001b[0m \u001b[0;36m0\u001b[0m\u001b[0;34m\u001b[0m\u001b[0m\n\u001b[1;32m      2\u001b[0m \u001b[0;32mwhile\u001b[0m \u001b[0mcurrent_step\u001b[0m \u001b[0;34m<=\u001b[0m \u001b[0mnum_train_steps\u001b[0m\u001b[0;34m:\u001b[0m\u001b[0;34m\u001b[0m\u001b[0m\n\u001b[0;32m----> 3\u001b[0;31m     \u001b[0mestimator\u001b[0m\u001b[0;34m.\u001b[0m\u001b[0mtrain\u001b[0m\u001b[0;34m(\u001b[0m\u001b[0minput_fn\u001b[0m\u001b[0;34m=\u001b[0m\u001b[0mtrain_input_fn\u001b[0m\u001b[0;34m,\u001b[0m\u001b[0msteps\u001b[0m\u001b[0;34m=\u001b[0m\u001b[0msteps_per_eval\u001b[0m\u001b[0;34m)\u001b[0m\u001b[0;34m\u001b[0m\u001b[0m\n\u001b[0m\u001b[1;32m      4\u001b[0m     \u001b[0meval_result\u001b[0m \u001b[0;34m=\u001b[0m \u001b[0mestimator\u001b[0m\u001b[0;34m.\u001b[0m\u001b[0mevaluate\u001b[0m\u001b[0;34m(\u001b[0m\u001b[0minput_fn\u001b[0m\u001b[0;34m=\u001b[0m\u001b[0meval_input_fn\u001b[0m\u001b[0;34m,\u001b[0m \u001b[0msteps\u001b[0m\u001b[0;34m=\u001b[0m\u001b[0meval_steps\u001b[0m\u001b[0;34m)\u001b[0m\u001b[0;34m\u001b[0m\u001b[0m\n\u001b[1;32m      5\u001b[0m     \u001b[0mcurrent_step\u001b[0m \u001b[0;34m=\u001b[0m \u001b[0mcurrent_step\u001b[0m \u001b[0;34m+\u001b[0m \u001b[0msteps_per_eval\u001b[0m\u001b[0;34m\u001b[0m\u001b[0m\n",
      "\u001b[0;32m~/anaconda3/lib/python3.6/site-packages/tensorflow/contrib/tpu/python/tpu/tpu_estimator.py\u001b[0m in \u001b[0;36mtrain\u001b[0;34m(self, input_fn, hooks, steps, max_steps, saving_listeners)\u001b[0m\n\u001b[1;32m   2401\u001b[0m       return super(TPUEstimator, self).train(\n\u001b[1;32m   2402\u001b[0m           \u001b[0minput_fn\u001b[0m\u001b[0;34m=\u001b[0m\u001b[0minput_fn\u001b[0m\u001b[0;34m,\u001b[0m \u001b[0mhooks\u001b[0m\u001b[0;34m=\u001b[0m\u001b[0mhooks\u001b[0m\u001b[0;34m,\u001b[0m \u001b[0msteps\u001b[0m\u001b[0;34m=\u001b[0m\u001b[0msteps\u001b[0m\u001b[0;34m,\u001b[0m \u001b[0mmax_steps\u001b[0m\u001b[0;34m=\u001b[0m\u001b[0mmax_steps\u001b[0m\u001b[0;34m,\u001b[0m\u001b[0;34m\u001b[0m\u001b[0m\n\u001b[0;32m-> 2403\u001b[0;31m           \u001b[0msaving_listeners\u001b[0m\u001b[0;34m=\u001b[0m\u001b[0msaving_listeners\u001b[0m\u001b[0;34m\u001b[0m\u001b[0m\n\u001b[0m\u001b[1;32m   2404\u001b[0m       )\n\u001b[1;32m   2405\u001b[0m     \u001b[0;32mexcept\u001b[0m \u001b[0mException\u001b[0m\u001b[0;34m:\u001b[0m  \u001b[0;31m# pylint: disable=broad-except\u001b[0m\u001b[0;34m\u001b[0m\u001b[0m\n",
      "\u001b[0;32m~/anaconda3/lib/python3.6/site-packages/tensorflow/python/estimator/estimator.py\u001b[0m in \u001b[0;36mtrain\u001b[0;34m(self, input_fn, hooks, steps, max_steps, saving_listeners)\u001b[0m\n\u001b[1;32m    352\u001b[0m \u001b[0;34m\u001b[0m\u001b[0m\n\u001b[1;32m    353\u001b[0m       \u001b[0msaving_listeners\u001b[0m \u001b[0;34m=\u001b[0m \u001b[0m_check_listeners_type\u001b[0m\u001b[0;34m(\u001b[0m\u001b[0msaving_listeners\u001b[0m\u001b[0;34m)\u001b[0m\u001b[0;34m\u001b[0m\u001b[0m\n\u001b[0;32m--> 354\u001b[0;31m       \u001b[0mloss\u001b[0m \u001b[0;34m=\u001b[0m \u001b[0mself\u001b[0m\u001b[0;34m.\u001b[0m\u001b[0m_train_model\u001b[0m\u001b[0;34m(\u001b[0m\u001b[0minput_fn\u001b[0m\u001b[0;34m,\u001b[0m \u001b[0mhooks\u001b[0m\u001b[0;34m,\u001b[0m \u001b[0msaving_listeners\u001b[0m\u001b[0;34m)\u001b[0m\u001b[0;34m\u001b[0m\u001b[0m\n\u001b[0m\u001b[1;32m    355\u001b[0m       \u001b[0mlogging\u001b[0m\u001b[0;34m.\u001b[0m\u001b[0minfo\u001b[0m\u001b[0;34m(\u001b[0m\u001b[0;34m'Loss for final step: %s.'\u001b[0m\u001b[0;34m,\u001b[0m \u001b[0mloss\u001b[0m\u001b[0;34m)\u001b[0m\u001b[0;34m\u001b[0m\u001b[0m\n\u001b[1;32m    356\u001b[0m       \u001b[0;32mreturn\u001b[0m \u001b[0mself\u001b[0m\u001b[0;34m\u001b[0m\u001b[0m\n",
      "\u001b[0;32m~/anaconda3/lib/python3.6/site-packages/tensorflow/python/estimator/estimator.py\u001b[0m in \u001b[0;36m_train_model\u001b[0;34m(self, input_fn, hooks, saving_listeners)\u001b[0m\n\u001b[1;32m   1205\u001b[0m       \u001b[0;32mreturn\u001b[0m \u001b[0mself\u001b[0m\u001b[0;34m.\u001b[0m\u001b[0m_train_model_distributed\u001b[0m\u001b[0;34m(\u001b[0m\u001b[0minput_fn\u001b[0m\u001b[0;34m,\u001b[0m \u001b[0mhooks\u001b[0m\u001b[0;34m,\u001b[0m \u001b[0msaving_listeners\u001b[0m\u001b[0;34m)\u001b[0m\u001b[0;34m\u001b[0m\u001b[0m\n\u001b[1;32m   1206\u001b[0m     \u001b[0;32melse\u001b[0m\u001b[0;34m:\u001b[0m\u001b[0;34m\u001b[0m\u001b[0m\n\u001b[0;32m-> 1207\u001b[0;31m       \u001b[0;32mreturn\u001b[0m \u001b[0mself\u001b[0m\u001b[0;34m.\u001b[0m\u001b[0m_train_model_default\u001b[0m\u001b[0;34m(\u001b[0m\u001b[0minput_fn\u001b[0m\u001b[0;34m,\u001b[0m \u001b[0mhooks\u001b[0m\u001b[0;34m,\u001b[0m \u001b[0msaving_listeners\u001b[0m\u001b[0;34m)\u001b[0m\u001b[0;34m\u001b[0m\u001b[0m\n\u001b[0m\u001b[1;32m   1208\u001b[0m \u001b[0;34m\u001b[0m\u001b[0m\n\u001b[1;32m   1209\u001b[0m   \u001b[0;32mdef\u001b[0m \u001b[0m_train_model_default\u001b[0m\u001b[0;34m(\u001b[0m\u001b[0mself\u001b[0m\u001b[0;34m,\u001b[0m \u001b[0minput_fn\u001b[0m\u001b[0;34m,\u001b[0m \u001b[0mhooks\u001b[0m\u001b[0;34m,\u001b[0m \u001b[0msaving_listeners\u001b[0m\u001b[0;34m)\u001b[0m\u001b[0;34m:\u001b[0m\u001b[0;34m\u001b[0m\u001b[0m\n",
      "\u001b[0;32m~/anaconda3/lib/python3.6/site-packages/tensorflow/python/estimator/estimator.py\u001b[0m in \u001b[0;36m_train_model_default\u001b[0;34m(self, input_fn, hooks, saving_listeners)\u001b[0m\n\u001b[1;32m   1239\u001b[0m       return self._train_with_estimator_spec(estimator_spec, worker_hooks,\n\u001b[1;32m   1240\u001b[0m                                              \u001b[0mhooks\u001b[0m\u001b[0;34m,\u001b[0m \u001b[0mglobal_step_tensor\u001b[0m\u001b[0;34m,\u001b[0m\u001b[0;34m\u001b[0m\u001b[0m\n\u001b[0;32m-> 1241\u001b[0;31m                                              saving_listeners)\n\u001b[0m\u001b[1;32m   1242\u001b[0m \u001b[0;34m\u001b[0m\u001b[0m\n\u001b[1;32m   1243\u001b[0m   \u001b[0;32mdef\u001b[0m \u001b[0m_train_model_distributed\u001b[0m\u001b[0;34m(\u001b[0m\u001b[0mself\u001b[0m\u001b[0;34m,\u001b[0m \u001b[0minput_fn\u001b[0m\u001b[0;34m,\u001b[0m \u001b[0mhooks\u001b[0m\u001b[0;34m,\u001b[0m \u001b[0msaving_listeners\u001b[0m\u001b[0;34m)\u001b[0m\u001b[0;34m:\u001b[0m\u001b[0;34m\u001b[0m\u001b[0m\n",
      "\u001b[0;32m~/anaconda3/lib/python3.6/site-packages/tensorflow/python/estimator/estimator.py\u001b[0m in \u001b[0;36m_train_with_estimator_spec\u001b[0;34m(self, estimator_spec, worker_hooks, hooks, global_step_tensor, saving_listeners)\u001b[0m\n\u001b[1;32m   1469\u001b[0m       \u001b[0mloss\u001b[0m \u001b[0;34m=\u001b[0m \u001b[0;32mNone\u001b[0m\u001b[0;34m\u001b[0m\u001b[0m\n\u001b[1;32m   1470\u001b[0m       \u001b[0;32mwhile\u001b[0m \u001b[0;32mnot\u001b[0m \u001b[0mmon_sess\u001b[0m\u001b[0;34m.\u001b[0m\u001b[0mshould_stop\u001b[0m\u001b[0;34m(\u001b[0m\u001b[0;34m)\u001b[0m\u001b[0;34m:\u001b[0m\u001b[0;34m\u001b[0m\u001b[0m\n\u001b[0;32m-> 1471\u001b[0;31m         \u001b[0m_\u001b[0m\u001b[0;34m,\u001b[0m \u001b[0mloss\u001b[0m \u001b[0;34m=\u001b[0m \u001b[0mmon_sess\u001b[0m\u001b[0;34m.\u001b[0m\u001b[0mrun\u001b[0m\u001b[0;34m(\u001b[0m\u001b[0;34m[\u001b[0m\u001b[0mestimator_spec\u001b[0m\u001b[0;34m.\u001b[0m\u001b[0mtrain_op\u001b[0m\u001b[0;34m,\u001b[0m \u001b[0mestimator_spec\u001b[0m\u001b[0;34m.\u001b[0m\u001b[0mloss\u001b[0m\u001b[0;34m]\u001b[0m\u001b[0;34m)\u001b[0m\u001b[0;34m\u001b[0m\u001b[0m\n\u001b[0m\u001b[1;32m   1472\u001b[0m     \u001b[0;32mreturn\u001b[0m \u001b[0mloss\u001b[0m\u001b[0;34m\u001b[0m\u001b[0m\n\u001b[1;32m   1473\u001b[0m \u001b[0;34m\u001b[0m\u001b[0m\n",
      "\u001b[0;32m~/anaconda3/lib/python3.6/site-packages/tensorflow/python/training/monitored_session.py\u001b[0m in \u001b[0;36mrun\u001b[0;34m(self, fetches, feed_dict, options, run_metadata)\u001b[0m\n\u001b[1;32m    669\u001b[0m                           \u001b[0mfeed_dict\u001b[0m\u001b[0;34m=\u001b[0m\u001b[0mfeed_dict\u001b[0m\u001b[0;34m,\u001b[0m\u001b[0;34m\u001b[0m\u001b[0m\n\u001b[1;32m    670\u001b[0m                           \u001b[0moptions\u001b[0m\u001b[0;34m=\u001b[0m\u001b[0moptions\u001b[0m\u001b[0;34m,\u001b[0m\u001b[0;34m\u001b[0m\u001b[0m\n\u001b[0;32m--> 671\u001b[0;31m                           run_metadata=run_metadata)\n\u001b[0m\u001b[1;32m    672\u001b[0m \u001b[0;34m\u001b[0m\u001b[0m\n\u001b[1;32m    673\u001b[0m   \u001b[0;32mdef\u001b[0m \u001b[0mrun_step_fn\u001b[0m\u001b[0;34m(\u001b[0m\u001b[0mself\u001b[0m\u001b[0;34m,\u001b[0m \u001b[0mstep_fn\u001b[0m\u001b[0;34m)\u001b[0m\u001b[0;34m:\u001b[0m\u001b[0;34m\u001b[0m\u001b[0m\n",
      "\u001b[0;32m~/anaconda3/lib/python3.6/site-packages/tensorflow/python/training/monitored_session.py\u001b[0m in \u001b[0;36mrun\u001b[0;34m(self, fetches, feed_dict, options, run_metadata)\u001b[0m\n\u001b[1;32m   1154\u001b[0m                               \u001b[0mfeed_dict\u001b[0m\u001b[0;34m=\u001b[0m\u001b[0mfeed_dict\u001b[0m\u001b[0;34m,\u001b[0m\u001b[0;34m\u001b[0m\u001b[0m\n\u001b[1;32m   1155\u001b[0m                               \u001b[0moptions\u001b[0m\u001b[0;34m=\u001b[0m\u001b[0moptions\u001b[0m\u001b[0;34m,\u001b[0m\u001b[0;34m\u001b[0m\u001b[0m\n\u001b[0;32m-> 1156\u001b[0;31m                               run_metadata=run_metadata)\n\u001b[0m\u001b[1;32m   1157\u001b[0m       \u001b[0;32mexcept\u001b[0m \u001b[0m_PREEMPTION_ERRORS\u001b[0m \u001b[0;32mas\u001b[0m \u001b[0me\u001b[0m\u001b[0;34m:\u001b[0m\u001b[0;34m\u001b[0m\u001b[0m\n\u001b[1;32m   1158\u001b[0m         logging.info('An error was raised. This may be due to a preemption in '\n",
      "\u001b[0;32m~/anaconda3/lib/python3.6/site-packages/tensorflow/python/training/monitored_session.py\u001b[0m in \u001b[0;36mrun\u001b[0;34m(self, *args, **kwargs)\u001b[0m\n\u001b[1;32m   1238\u001b[0m   \u001b[0;32mdef\u001b[0m \u001b[0mrun\u001b[0m\u001b[0;34m(\u001b[0m\u001b[0mself\u001b[0m\u001b[0;34m,\u001b[0m \u001b[0;34m*\u001b[0m\u001b[0margs\u001b[0m\u001b[0;34m,\u001b[0m \u001b[0;34m**\u001b[0m\u001b[0mkwargs\u001b[0m\u001b[0;34m)\u001b[0m\u001b[0;34m:\u001b[0m\u001b[0;34m\u001b[0m\u001b[0m\n\u001b[1;32m   1239\u001b[0m     \u001b[0;32mtry\u001b[0m\u001b[0;34m:\u001b[0m\u001b[0;34m\u001b[0m\u001b[0m\n\u001b[0;32m-> 1240\u001b[0;31m       \u001b[0;32mreturn\u001b[0m \u001b[0mself\u001b[0m\u001b[0;34m.\u001b[0m\u001b[0m_sess\u001b[0m\u001b[0;34m.\u001b[0m\u001b[0mrun\u001b[0m\u001b[0;34m(\u001b[0m\u001b[0;34m*\u001b[0m\u001b[0margs\u001b[0m\u001b[0;34m,\u001b[0m \u001b[0;34m**\u001b[0m\u001b[0mkwargs\u001b[0m\u001b[0;34m)\u001b[0m\u001b[0;34m\u001b[0m\u001b[0m\n\u001b[0m\u001b[1;32m   1241\u001b[0m     \u001b[0;32mexcept\u001b[0m \u001b[0m_PREEMPTION_ERRORS\u001b[0m\u001b[0;34m:\u001b[0m\u001b[0;34m\u001b[0m\u001b[0m\n\u001b[1;32m   1242\u001b[0m       \u001b[0;32mraise\u001b[0m\u001b[0;34m\u001b[0m\u001b[0m\n",
      "\u001b[0;32m~/anaconda3/lib/python3.6/site-packages/tensorflow/python/training/monitored_session.py\u001b[0m in \u001b[0;36mrun\u001b[0;34m(self, fetches, feed_dict, options, run_metadata)\u001b[0m\n\u001b[1;32m   1310\u001b[0m                                   \u001b[0mfeed_dict\u001b[0m\u001b[0;34m=\u001b[0m\u001b[0mfeed_dict\u001b[0m\u001b[0;34m,\u001b[0m\u001b[0;34m\u001b[0m\u001b[0m\n\u001b[1;32m   1311\u001b[0m                                   \u001b[0moptions\u001b[0m\u001b[0;34m=\u001b[0m\u001b[0moptions\u001b[0m\u001b[0;34m,\u001b[0m\u001b[0;34m\u001b[0m\u001b[0m\n\u001b[0;32m-> 1312\u001b[0;31m                                   run_metadata=run_metadata)\n\u001b[0m\u001b[1;32m   1313\u001b[0m \u001b[0;34m\u001b[0m\u001b[0m\n\u001b[1;32m   1314\u001b[0m     \u001b[0;32mfor\u001b[0m \u001b[0mhook\u001b[0m \u001b[0;32min\u001b[0m \u001b[0mself\u001b[0m\u001b[0;34m.\u001b[0m\u001b[0m_hooks\u001b[0m\u001b[0;34m:\u001b[0m\u001b[0;34m\u001b[0m\u001b[0m\n",
      "\u001b[0;32m~/anaconda3/lib/python3.6/site-packages/tensorflow/python/training/monitored_session.py\u001b[0m in \u001b[0;36mrun\u001b[0;34m(self, *args, **kwargs)\u001b[0m\n\u001b[1;32m   1074\u001b[0m \u001b[0;34m\u001b[0m\u001b[0m\n\u001b[1;32m   1075\u001b[0m   \u001b[0;32mdef\u001b[0m \u001b[0mrun\u001b[0m\u001b[0;34m(\u001b[0m\u001b[0mself\u001b[0m\u001b[0;34m,\u001b[0m \u001b[0;34m*\u001b[0m\u001b[0margs\u001b[0m\u001b[0;34m,\u001b[0m \u001b[0;34m**\u001b[0m\u001b[0mkwargs\u001b[0m\u001b[0;34m)\u001b[0m\u001b[0;34m:\u001b[0m\u001b[0;34m\u001b[0m\u001b[0m\n\u001b[0;32m-> 1076\u001b[0;31m     \u001b[0;32mreturn\u001b[0m \u001b[0mself\u001b[0m\u001b[0;34m.\u001b[0m\u001b[0m_sess\u001b[0m\u001b[0;34m.\u001b[0m\u001b[0mrun\u001b[0m\u001b[0;34m(\u001b[0m\u001b[0;34m*\u001b[0m\u001b[0margs\u001b[0m\u001b[0;34m,\u001b[0m \u001b[0;34m**\u001b[0m\u001b[0mkwargs\u001b[0m\u001b[0;34m)\u001b[0m\u001b[0;34m\u001b[0m\u001b[0m\n\u001b[0m\u001b[1;32m   1077\u001b[0m \u001b[0;34m\u001b[0m\u001b[0m\n\u001b[1;32m   1078\u001b[0m   \u001b[0;32mdef\u001b[0m \u001b[0mrun_step_fn\u001b[0m\u001b[0;34m(\u001b[0m\u001b[0mself\u001b[0m\u001b[0;34m,\u001b[0m \u001b[0mstep_fn\u001b[0m\u001b[0;34m,\u001b[0m \u001b[0mraw_session\u001b[0m\u001b[0;34m,\u001b[0m \u001b[0mrun_with_hooks\u001b[0m\u001b[0;34m)\u001b[0m\u001b[0;34m:\u001b[0m\u001b[0;34m\u001b[0m\u001b[0m\n",
      "\u001b[0;32m~/anaconda3/lib/python3.6/site-packages/tensorflow/python/client/session.py\u001b[0m in \u001b[0;36mrun\u001b[0;34m(self, fetches, feed_dict, options, run_metadata)\u001b[0m\n\u001b[1;32m    927\u001b[0m     \u001b[0;32mtry\u001b[0m\u001b[0;34m:\u001b[0m\u001b[0;34m\u001b[0m\u001b[0m\n\u001b[1;32m    928\u001b[0m       result = self._run(None, fetches, feed_dict, options_ptr,\n\u001b[0;32m--> 929\u001b[0;31m                          run_metadata_ptr)\n\u001b[0m\u001b[1;32m    930\u001b[0m       \u001b[0;32mif\u001b[0m \u001b[0mrun_metadata\u001b[0m\u001b[0;34m:\u001b[0m\u001b[0;34m\u001b[0m\u001b[0m\n\u001b[1;32m    931\u001b[0m         \u001b[0mproto_data\u001b[0m \u001b[0;34m=\u001b[0m \u001b[0mtf_session\u001b[0m\u001b[0;34m.\u001b[0m\u001b[0mTF_GetBuffer\u001b[0m\u001b[0;34m(\u001b[0m\u001b[0mrun_metadata_ptr\u001b[0m\u001b[0;34m)\u001b[0m\u001b[0;34m\u001b[0m\u001b[0m\n",
      "\u001b[0;32m~/anaconda3/lib/python3.6/site-packages/tensorflow/python/client/session.py\u001b[0m in \u001b[0;36m_run\u001b[0;34m(self, handle, fetches, feed_dict, options, run_metadata)\u001b[0m\n\u001b[1;32m   1150\u001b[0m     \u001b[0;32mif\u001b[0m \u001b[0mfinal_fetches\u001b[0m \u001b[0;32mor\u001b[0m \u001b[0mfinal_targets\u001b[0m \u001b[0;32mor\u001b[0m \u001b[0;34m(\u001b[0m\u001b[0mhandle\u001b[0m \u001b[0;32mand\u001b[0m \u001b[0mfeed_dict_tensor\u001b[0m\u001b[0;34m)\u001b[0m\u001b[0;34m:\u001b[0m\u001b[0;34m\u001b[0m\u001b[0m\n\u001b[1;32m   1151\u001b[0m       results = self._do_run(handle, final_targets, final_fetches,\n\u001b[0;32m-> 1152\u001b[0;31m                              feed_dict_tensor, options, run_metadata)\n\u001b[0m\u001b[1;32m   1153\u001b[0m     \u001b[0;32melse\u001b[0m\u001b[0;34m:\u001b[0m\u001b[0;34m\u001b[0m\u001b[0m\n\u001b[1;32m   1154\u001b[0m       \u001b[0mresults\u001b[0m \u001b[0;34m=\u001b[0m \u001b[0;34m[\u001b[0m\u001b[0;34m]\u001b[0m\u001b[0;34m\u001b[0m\u001b[0m\n",
      "\u001b[0;32m~/anaconda3/lib/python3.6/site-packages/tensorflow/python/client/session.py\u001b[0m in \u001b[0;36m_do_run\u001b[0;34m(self, handle, target_list, fetch_list, feed_dict, options, run_metadata)\u001b[0m\n\u001b[1;32m   1326\u001b[0m     \u001b[0;32mif\u001b[0m \u001b[0mhandle\u001b[0m \u001b[0;32mis\u001b[0m \u001b[0;32mNone\u001b[0m\u001b[0;34m:\u001b[0m\u001b[0;34m\u001b[0m\u001b[0m\n\u001b[1;32m   1327\u001b[0m       return self._do_call(_run_fn, feeds, fetches, targets, options,\n\u001b[0;32m-> 1328\u001b[0;31m                            run_metadata)\n\u001b[0m\u001b[1;32m   1329\u001b[0m     \u001b[0;32melse\u001b[0m\u001b[0;34m:\u001b[0m\u001b[0;34m\u001b[0m\u001b[0m\n\u001b[1;32m   1330\u001b[0m       \u001b[0;32mreturn\u001b[0m \u001b[0mself\u001b[0m\u001b[0;34m.\u001b[0m\u001b[0m_do_call\u001b[0m\u001b[0;34m(\u001b[0m\u001b[0m_prun_fn\u001b[0m\u001b[0;34m,\u001b[0m \u001b[0mhandle\u001b[0m\u001b[0;34m,\u001b[0m \u001b[0mfeeds\u001b[0m\u001b[0;34m,\u001b[0m \u001b[0mfetches\u001b[0m\u001b[0;34m)\u001b[0m\u001b[0;34m\u001b[0m\u001b[0m\n",
      "\u001b[0;32m~/anaconda3/lib/python3.6/site-packages/tensorflow/python/client/session.py\u001b[0m in \u001b[0;36m_do_call\u001b[0;34m(self, fn, *args)\u001b[0m\n\u001b[1;32m   1332\u001b[0m   \u001b[0;32mdef\u001b[0m \u001b[0m_do_call\u001b[0m\u001b[0;34m(\u001b[0m\u001b[0mself\u001b[0m\u001b[0;34m,\u001b[0m \u001b[0mfn\u001b[0m\u001b[0;34m,\u001b[0m \u001b[0;34m*\u001b[0m\u001b[0margs\u001b[0m\u001b[0;34m)\u001b[0m\u001b[0;34m:\u001b[0m\u001b[0;34m\u001b[0m\u001b[0m\n\u001b[1;32m   1333\u001b[0m     \u001b[0;32mtry\u001b[0m\u001b[0;34m:\u001b[0m\u001b[0;34m\u001b[0m\u001b[0m\n\u001b[0;32m-> 1334\u001b[0;31m       \u001b[0;32mreturn\u001b[0m \u001b[0mfn\u001b[0m\u001b[0;34m(\u001b[0m\u001b[0;34m*\u001b[0m\u001b[0margs\u001b[0m\u001b[0;34m)\u001b[0m\u001b[0;34m\u001b[0m\u001b[0m\n\u001b[0m\u001b[1;32m   1335\u001b[0m     \u001b[0;32mexcept\u001b[0m \u001b[0merrors\u001b[0m\u001b[0;34m.\u001b[0m\u001b[0mOpError\u001b[0m \u001b[0;32mas\u001b[0m \u001b[0me\u001b[0m\u001b[0;34m:\u001b[0m\u001b[0;34m\u001b[0m\u001b[0m\n\u001b[1;32m   1336\u001b[0m       \u001b[0mmessage\u001b[0m \u001b[0;34m=\u001b[0m \u001b[0mcompat\u001b[0m\u001b[0;34m.\u001b[0m\u001b[0mas_text\u001b[0m\u001b[0;34m(\u001b[0m\u001b[0me\u001b[0m\u001b[0;34m.\u001b[0m\u001b[0mmessage\u001b[0m\u001b[0;34m)\u001b[0m\u001b[0;34m\u001b[0m\u001b[0m\n",
      "\u001b[0;32m~/anaconda3/lib/python3.6/site-packages/tensorflow/python/client/session.py\u001b[0m in \u001b[0;36m_run_fn\u001b[0;34m(feed_dict, fetch_list, target_list, options, run_metadata)\u001b[0m\n\u001b[1;32m   1317\u001b[0m       \u001b[0mself\u001b[0m\u001b[0;34m.\u001b[0m\u001b[0m_extend_graph\u001b[0m\u001b[0;34m(\u001b[0m\u001b[0;34m)\u001b[0m\u001b[0;34m\u001b[0m\u001b[0m\n\u001b[1;32m   1318\u001b[0m       return self._call_tf_sessionrun(\n\u001b[0;32m-> 1319\u001b[0;31m           options, feed_dict, fetch_list, target_list, run_metadata)\n\u001b[0m\u001b[1;32m   1320\u001b[0m \u001b[0;34m\u001b[0m\u001b[0m\n\u001b[1;32m   1321\u001b[0m     \u001b[0;32mdef\u001b[0m \u001b[0m_prun_fn\u001b[0m\u001b[0;34m(\u001b[0m\u001b[0mhandle\u001b[0m\u001b[0;34m,\u001b[0m \u001b[0mfeed_dict\u001b[0m\u001b[0;34m,\u001b[0m \u001b[0mfetch_list\u001b[0m\u001b[0;34m)\u001b[0m\u001b[0;34m:\u001b[0m\u001b[0;34m\u001b[0m\u001b[0m\n",
      "\u001b[0;32m~/anaconda3/lib/python3.6/site-packages/tensorflow/python/client/session.py\u001b[0m in \u001b[0;36m_call_tf_sessionrun\u001b[0;34m(self, options, feed_dict, fetch_list, target_list, run_metadata)\u001b[0m\n\u001b[1;32m   1405\u001b[0m     return tf_session.TF_SessionRun_wrapper(\n\u001b[1;32m   1406\u001b[0m         \u001b[0mself\u001b[0m\u001b[0;34m.\u001b[0m\u001b[0m_session\u001b[0m\u001b[0;34m,\u001b[0m \u001b[0moptions\u001b[0m\u001b[0;34m,\u001b[0m \u001b[0mfeed_dict\u001b[0m\u001b[0;34m,\u001b[0m \u001b[0mfetch_list\u001b[0m\u001b[0;34m,\u001b[0m \u001b[0mtarget_list\u001b[0m\u001b[0;34m,\u001b[0m\u001b[0;34m\u001b[0m\u001b[0m\n\u001b[0;32m-> 1407\u001b[0;31m         run_metadata)\n\u001b[0m\u001b[1;32m   1408\u001b[0m \u001b[0;34m\u001b[0m\u001b[0m\n\u001b[1;32m   1409\u001b[0m   \u001b[0;32mdef\u001b[0m \u001b[0m_call_tf_sessionprun\u001b[0m\u001b[0;34m(\u001b[0m\u001b[0mself\u001b[0m\u001b[0;34m,\u001b[0m \u001b[0mhandle\u001b[0m\u001b[0;34m,\u001b[0m \u001b[0mfeed_dict\u001b[0m\u001b[0;34m,\u001b[0m \u001b[0mfetch_list\u001b[0m\u001b[0;34m)\u001b[0m\u001b[0;34m:\u001b[0m\u001b[0;34m\u001b[0m\u001b[0m\n",
      "\u001b[0;31mKeyboardInterrupt\u001b[0m: "
     ]
    }
   ],
   "source": [
    "current_step = 0\n",
    "while current_step <= num_train_steps:\n",
    "    estimator.train(input_fn=train_input_fn,steps=steps_per_eval)\n",
    "    eval_result = estimator.evaluate(input_fn=eval_input_fn, steps=eval_steps)\n",
    "    current_step = current_step + steps_per_eval\n",
    "    print(\"ステップ：{}\".format(current_step))\n",
    "    print(eval_result)"
   ]
  },
  {
   "cell_type": "code",
   "execution_count": null,
   "metadata": {},
   "outputs": [],
   "source": []
  },
  {
   "cell_type": "markdown",
   "metadata": {},
   "source": [
    "## Prediction"
   ]
  },
  {
   "cell_type": "code",
   "execution_count": 33,
   "metadata": {},
   "outputs": [],
   "source": [
    "predict_examples = processor.get_test_examples(DATA_DIR)"
   ]
  },
  {
   "cell_type": "code",
   "execution_count": 34,
   "metadata": {},
   "outputs": [
    {
     "name": "stdout",
     "output_type": "stream",
     "text": [
      "INFO:tensorflow:Writing example 0 of 3191\n",
      "INFO:tensorflow:*** Example ***\n",
      "INFO:tensorflow:guid: test-0\n",
      "INFO:tensorflow:tokens: [CLS] i purchased this tablet out of enthusiasm for it ' s built in beats audio . while it does have beats audio built in , it is a very limited feature . the overall movement through the tablet is very smooth . however , i noticed early on that what should be beautiful hd graphics were grain ##y and down right ugly . i usually get nice photos on my facebook wall . on my hp laptop , and my samsung tablet the photos look beautiful , but on the slate 7 the pictures are terrible . that was my first concern . second concern , the slate 7 didn ' t come with a built in video player . the primary reason i started using [SEP]\n",
      "INFO:tensorflow:input_ids: 101 1045 4156 2023 13855 2041 1997 12024 2005 2009 1005 1055 2328 1999 10299 5746 1012 2096 2009 2515 2031 10299 5746 2328 1999 1010 2009 2003 1037 2200 3132 3444 1012 1996 3452 2929 2083 1996 13855 2003 2200 5744 1012 2174 1010 1045 4384 2220 2006 2008 2054 2323 2022 3376 10751 8389 2020 8982 2100 1998 2091 2157 9200 1012 1045 2788 2131 3835 7760 2006 2026 9130 2813 1012 2006 2026 6522 12191 1010 1998 2026 19102 13855 1996 7760 2298 3376 1010 2021 2006 1996 12796 1021 1996 4620 2024 6659 1012 2008 2001 2026 2034 5142 1012 2117 5142 1010 1996 12796 1021 2134 1005 1056 2272 2007 1037 2328 1999 2678 2447 1012 1996 3078 3114 1045 2318 2478 102\n",
      "INFO:tensorflow:input_mask: 1 1 1 1 1 1 1 1 1 1 1 1 1 1 1 1 1 1 1 1 1 1 1 1 1 1 1 1 1 1 1 1 1 1 1 1 1 1 1 1 1 1 1 1 1 1 1 1 1 1 1 1 1 1 1 1 1 1 1 1 1 1 1 1 1 1 1 1 1 1 1 1 1 1 1 1 1 1 1 1 1 1 1 1 1 1 1 1 1 1 1 1 1 1 1 1 1 1 1 1 1 1 1 1 1 1 1 1 1 1 1 1 1 1 1 1 1 1 1 1 1 1 1 1 1 1 1 1\n",
      "INFO:tensorflow:segment_ids: 0 0 0 0 0 0 0 0 0 0 0 0 0 0 0 0 0 0 0 0 0 0 0 0 0 0 0 0 0 0 0 0 0 0 0 0 0 0 0 0 0 0 0 0 0 0 0 0 0 0 0 0 0 0 0 0 0 0 0 0 0 0 0 0 0 0 0 0 0 0 0 0 0 0 0 0 0 0 0 0 0 0 0 0 0 0 0 0 0 0 0 0 0 0 0 0 0 0 0 0 0 0 0 0 0 0 0 0 0 0 0 0 0 0 0 0 0 0 0 0 0 0 0 0 0 0 0 0\n",
      "INFO:tensorflow:*** Example ***\n",
      "INFO:tensorflow:guid: test-1\n",
      "INFO:tensorflow:tokens: [CLS] i never really care for android devices . i ' m a hardcore microsoft user and have used 3rd party cheap android tablet that never ever meet my expectation . i receive this hp slate 7 inches as a gift . i checked online and its a relatively cheap tablet and i wasn ' t expecting much from it . i started using it and i was caught by it . . . . it is pretty fast and accurate . the storage is expand ##able with an additional 32 ##gb and 1 . 6 ##gh ##z dual core processor make everything pretty smooth . . . . the tablet feel like a strong device that will not fall apart easily , the cameras are not [SEP]\n",
      "INFO:tensorflow:input_ids: 101 1045 2196 2428 2729 2005 11924 5733 1012 1045 1005 1049 1037 13076 7513 5310 1998 2031 2109 3822 2283 10036 11924 13855 2008 2196 2412 3113 2026 17626 1012 1045 4374 2023 6522 12796 1021 5282 2004 1037 5592 1012 1045 7039 3784 1998 2049 1037 4659 10036 13855 1998 1045 2347 1005 1056 8074 2172 2013 2009 1012 1045 2318 2478 2009 1998 1045 2001 3236 2011 2009 1012 1012 1012 1012 2009 2003 3492 3435 1998 8321 1012 1996 5527 2003 7818 3085 2007 2019 3176 3590 18259 1998 1015 1012 1020 5603 2480 7037 4563 13151 2191 2673 3492 5744 1012 1012 1012 1012 1996 13855 2514 2066 1037 2844 5080 2008 2097 2025 2991 4237 4089 1010 1996 8629 2024 2025 102\n",
      "INFO:tensorflow:input_mask: 1 1 1 1 1 1 1 1 1 1 1 1 1 1 1 1 1 1 1 1 1 1 1 1 1 1 1 1 1 1 1 1 1 1 1 1 1 1 1 1 1 1 1 1 1 1 1 1 1 1 1 1 1 1 1 1 1 1 1 1 1 1 1 1 1 1 1 1 1 1 1 1 1 1 1 1 1 1 1 1 1 1 1 1 1 1 1 1 1 1 1 1 1 1 1 1 1 1 1 1 1 1 1 1 1 1 1 1 1 1 1 1 1 1 1 1 1 1 1 1 1 1 1 1 1 1 1 1\n",
      "INFO:tensorflow:segment_ids: 0 0 0 0 0 0 0 0 0 0 0 0 0 0 0 0 0 0 0 0 0 0 0 0 0 0 0 0 0 0 0 0 0 0 0 0 0 0 0 0 0 0 0 0 0 0 0 0 0 0 0 0 0 0 0 0 0 0 0 0 0 0 0 0 0 0 0 0 0 0 0 0 0 0 0 0 0 0 0 0 0 0 0 0 0 0 0 0 0 0 0 0 0 0 0 0 0 0 0 0 0 0 0 0 0 0 0 0 0 0 0 0 0 0 0 0 0 0 0 0 0 0 0 0 0 0 0 0\n",
      "INFO:tensorflow:*** Example ***\n",
      "INFO:tensorflow:guid: test-2\n",
      "INFO:tensorflow:tokens: [CLS] i had originally purchased the go ##pole reach , returned it and bought this this po ##v pole . so i can give a comparison between the two . here ' s a quick review of both : go ##pole reach : [ . . . ] - comparable in price $ 54 . 99 for go ##pole vs $ 49 . 99 for po ##v pole - 25 % heavier than the po ##v pole . 8 oz vs . 6 . 4 oz . - longer final compressed length , will not fit my back - pack . and my back - pack is already larger than most . - on my unit , there was a problem with the 3rd section and the [SEP]\n",
      "INFO:tensorflow:input_ids: 101 1045 2018 2761 4156 1996 2175 15049 3362 1010 2513 2009 1998 4149 2023 2023 13433 2615 6536 1012 2061 1045 2064 2507 1037 7831 2090 1996 2048 1012 2182 1005 1055 1037 4248 3319 1997 2119 1024 2175 15049 3362 1024 1031 1012 1012 1012 1033 1011 12435 1999 3976 1002 5139 1012 5585 2005 2175 15049 5443 1002 4749 1012 5585 2005 13433 2615 6536 1011 2423 1003 11907 2084 1996 13433 2615 6536 1012 1022 11472 5443 1012 1020 1012 1018 11472 1012 1011 2936 2345 16620 3091 1010 2097 2025 4906 2026 2067 1011 5308 1012 1998 2026 2067 1011 5308 2003 2525 3469 2084 2087 1012 1011 2006 2026 3131 1010 2045 2001 1037 3291 2007 1996 3822 2930 1998 1996 102\n",
      "INFO:tensorflow:input_mask: 1 1 1 1 1 1 1 1 1 1 1 1 1 1 1 1 1 1 1 1 1 1 1 1 1 1 1 1 1 1 1 1 1 1 1 1 1 1 1 1 1 1 1 1 1 1 1 1 1 1 1 1 1 1 1 1 1 1 1 1 1 1 1 1 1 1 1 1 1 1 1 1 1 1 1 1 1 1 1 1 1 1 1 1 1 1 1 1 1 1 1 1 1 1 1 1 1 1 1 1 1 1 1 1 1 1 1 1 1 1 1 1 1 1 1 1 1 1 1 1 1 1 1 1 1 1 1 1\n",
      "INFO:tensorflow:segment_ids: 0 0 0 0 0 0 0 0 0 0 0 0 0 0 0 0 0 0 0 0 0 0 0 0 0 0 0 0 0 0 0 0 0 0 0 0 0 0 0 0 0 0 0 0 0 0 0 0 0 0 0 0 0 0 0 0 0 0 0 0 0 0 0 0 0 0 0 0 0 0 0 0 0 0 0 0 0 0 0 0 0 0 0 0 0 0 0 0 0 0 0 0 0 0 0 0 0 0 0 0 0 0 0 0 0 0 0 0 0 0 0 0 0 0 0 0 0 0 0 0 0 0 0 0 0 0 0 0\n",
      "INFO:tensorflow:*** Example ***\n",
      "INFO:tensorflow:guid: test-3\n",
      "INFO:tensorflow:tokens: [CLS] i picked up a pair of these for even a few dollars cheaper than amazon sells them , and to be honest , expected to be bringing them back . i didn ' t think something so inexpensive would actually work . i ' ve spent a lot of money on sen ##nh ##eis ##er wireless head ##phones over the years , and while they sound & work great , a design flaw causes them to end up breaking , becoming a real has ##sle to try and keep on your head , and then eventually die . these fit nice and s ##nu ##g , are comfortable , and to be honest , look like they ' ll last longer than the sen ##nh ##eis [SEP]\n",
      "INFO:tensorflow:input_ids: 101 1045 3856 2039 1037 3940 1997 2122 2005 2130 1037 2261 6363 16269 2084 9733 15187 2068 1010 1998 2000 2022 7481 1010 3517 2000 2022 5026 2068 2067 1012 1045 2134 1005 1056 2228 2242 2061 23766 2052 2941 2147 1012 1045 1005 2310 2985 1037 2843 1997 2769 2006 12411 25311 17580 2121 9949 2132 19093 2058 1996 2086 1010 1998 2096 2027 2614 1004 2147 2307 1010 1037 2640 28450 5320 2068 2000 2203 2039 4911 1010 3352 1037 2613 2038 25016 2000 3046 1998 2562 2006 2115 2132 1010 1998 2059 2776 3280 1012 2122 4906 3835 1998 1055 11231 2290 1010 2024 6625 1010 1998 2000 2022 7481 1010 2298 2066 2027 1005 2222 2197 2936 2084 1996 12411 25311 17580 102\n",
      "INFO:tensorflow:input_mask: 1 1 1 1 1 1 1 1 1 1 1 1 1 1 1 1 1 1 1 1 1 1 1 1 1 1 1 1 1 1 1 1 1 1 1 1 1 1 1 1 1 1 1 1 1 1 1 1 1 1 1 1 1 1 1 1 1 1 1 1 1 1 1 1 1 1 1 1 1 1 1 1 1 1 1 1 1 1 1 1 1 1 1 1 1 1 1 1 1 1 1 1 1 1 1 1 1 1 1 1 1 1 1 1 1 1 1 1 1 1 1 1 1 1 1 1 1 1 1 1 1 1 1 1 1 1 1 1\n",
      "INFO:tensorflow:segment_ids: 0 0 0 0 0 0 0 0 0 0 0 0 0 0 0 0 0 0 0 0 0 0 0 0 0 0 0 0 0 0 0 0 0 0 0 0 0 0 0 0 0 0 0 0 0 0 0 0 0 0 0 0 0 0 0 0 0 0 0 0 0 0 0 0 0 0 0 0 0 0 0 0 0 0 0 0 0 0 0 0 0 0 0 0 0 0 0 0 0 0 0 0 0 0 0 0 0 0 0 0 0 0 0 0 0 0 0 0 0 0 0 0 0 0 0 0 0 0 0 0 0 0 0 0 0 0 0 0\n",
      "INFO:tensorflow:*** Example ***\n",
      "INFO:tensorflow:guid: test-4\n",
      "INFO:tensorflow:tokens: [CLS] it might be the winner . i have listened to a number of speakers and simply i am always kept wanting more . and by more , i mean real sound that is natural and able to fill a room with ease . for the $ 100 category - - this is by far the best thing i have listened to . although not perfect , it is really good . what most sound like is an old realistic handheld radio that now costs $ 200 . . . . and that is truly how i feel they sound . there is a lot of h ##ype with bose , ultimate ears , jam ##box , td ##k , j ##bl - - - you name [SEP]\n",
      "INFO:tensorflow:input_ids: 101 2009 2453 2022 1996 3453 1012 1045 2031 7791 2000 1037 2193 1997 7492 1998 3432 1045 2572 2467 2921 5782 2062 1012 1998 2011 2062 1010 1045 2812 2613 2614 2008 2003 3019 1998 2583 2000 6039 1037 2282 2007 7496 1012 2005 1996 1002 2531 4696 1011 1011 2023 2003 2011 2521 1996 2190 2518 1045 2031 7791 2000 1012 2348 2025 3819 1010 2009 2003 2428 2204 1012 2054 2087 2614 2066 2003 2019 2214 12689 27291 2557 2008 2085 5366 1002 3263 1012 1012 1012 1012 1998 2008 2003 5621 2129 1045 2514 2027 2614 1012 2045 2003 1037 2843 1997 1044 18863 2007 21299 1010 7209 5551 1010 9389 8758 1010 14595 2243 1010 1046 16558 1011 1011 1011 2017 2171 102\n",
      "INFO:tensorflow:input_mask: 1 1 1 1 1 1 1 1 1 1 1 1 1 1 1 1 1 1 1 1 1 1 1 1 1 1 1 1 1 1 1 1 1 1 1 1 1 1 1 1 1 1 1 1 1 1 1 1 1 1 1 1 1 1 1 1 1 1 1 1 1 1 1 1 1 1 1 1 1 1 1 1 1 1 1 1 1 1 1 1 1 1 1 1 1 1 1 1 1 1 1 1 1 1 1 1 1 1 1 1 1 1 1 1 1 1 1 1 1 1 1 1 1 1 1 1 1 1 1 1 1 1 1 1 1 1 1 1\n",
      "INFO:tensorflow:segment_ids: 0 0 0 0 0 0 0 0 0 0 0 0 0 0 0 0 0 0 0 0 0 0 0 0 0 0 0 0 0 0 0 0 0 0 0 0 0 0 0 0 0 0 0 0 0 0 0 0 0 0 0 0 0 0 0 0 0 0 0 0 0 0 0 0 0 0 0 0 0 0 0 0 0 0 0 0 0 0 0 0 0 0 0 0 0 0 0 0 0 0 0 0 0 0 0 0 0 0 0 0 0 0 0 0 0 0 0 0 0 0 0 0 0 0 0 0 0 0 0 0 0 0 0 0 0 0 0 0\n"
     ]
    }
   ],
   "source": [
    "predict_features = run_regressor.convert_examples_to_features(predict_examples,max_seq_length=max_seq_length,tokenizer=tokenizer)"
   ]
  },
  {
   "cell_type": "code",
   "execution_count": 36,
   "metadata": {},
   "outputs": [],
   "source": [
    "predict_input_fn = input_fn_builder(predict_features,max_seq_length,is_training=False,drop_remainder=False)"
   ]
  },
  {
   "cell_type": "code",
   "execution_count": 37,
   "metadata": {},
   "outputs": [],
   "source": [
    "result = estimator.predict(input_fn=predict_input_fn)"
   ]
  },
  {
   "cell_type": "code",
   "execution_count": 38,
   "metadata": {},
   "outputs": [
    {
     "name": "stdout",
     "output_type": "stream",
     "text": [
      "INFO:tensorflow:Calling model_fn.\n",
      "INFO:tensorflow:Running infer on CPU\n",
      "INFO:tensorflow:Done calling model_fn.\n",
      "INFO:tensorflow:Graph was finalized.\n",
      "INFO:tensorflow:Restoring parameters from /home/ubuntu/tmp/bert_TrEv/model.ckpt-500\n",
      "INFO:tensorflow:Running local_init_op.\n",
      "INFO:tensorflow:Done running local_init_op.\n",
      "INFO:tensorflow:prediction_loop marked as finished\n",
      "INFO:tensorflow:prediction_loop marked as finished\n"
     ]
    }
   ],
   "source": [
    "prediction = np.array(list(result))"
   ]
  },
  {
   "cell_type": "code",
   "execution_count": 39,
   "metadata": {},
   "outputs": [],
   "source": [
    "labels = np.array([i.label for i in predict_examples])"
   ]
  },
  {
   "cell_type": "code",
   "execution_count": 40,
   "metadata": {},
   "outputs": [
    {
     "data": {
      "text/plain": [
       "<matplotlib.collections.PathCollection at 0x7f20c4418828>"
      ]
     },
     "execution_count": 40,
     "metadata": {},
     "output_type": "execute_result"
    },
    {
     "data": {
      "image/png": "[encoded data removed]",
      "text/plain": [
       "<Figure size 432x288 with 1 Axes>"
      ]
     },
     "metadata": {},
     "output_type": "display_data"
    }
   ],
   "source": [
    "plt.scatter(labels,prediction)"
   ]
  },
  {
   "cell_type": "code",
   "execution_count": 41,
   "metadata": {},
   "outputs": [],
   "source": [
    "from sklearn.metrics import mean_squared_error,r2_score"
   ]
  },
  {
   "cell_type": "code",
   "execution_count": 42,
   "metadata": {},
   "outputs": [
    {
     "name": "stdout",
     "output_type": "stream",
     "text": [
      "0.04335372527463028\n",
      "0.2801617327273611\n"
     ]
    }
   ],
   "source": [
    "print(mean_squared_error(y_pred=prediction,y_true=labels))\n",
    "\n",
    "print(r2_score(y_pred=prediction,y_true=labels))"
   ]
  },
  {
   "cell_type": "code",
   "execution_count": 43,
   "metadata": {},
   "outputs": [
    {
     "data": {
      "text/plain": [
       "(array([   9.,   17.,   20.,   59.,   73.,  127.,  231.,  591., 1460.,\n",
       "         604.]),\n",
       " array([0.11088897, 0.19888072, 0.28687247, 0.37486422, 0.46285597,\n",
       "        0.55084772, 0.63883947, 0.72683121, 0.81482296, 0.90281471,\n",
       "        0.99080646]),\n",
       " <a list of 10 Patch objects>)"
      ]
     },
     "execution_count": 43,
     "metadata": {},
     "output_type": "execute_result"
    },
    {
     "data": {
      "image/png": "[encoded data removed]",
      "text/plain": [
       "<Figure size 432x288 with 1 Axes>"
      ]
     },
     "metadata": {},
     "output_type": "display_data"
    }
   ],
   "source": [
    "plt.hist(labels,alpha=0.5)\n",
    "plt.hist(prediction,alpha=0.5)"
   ]
  },
  {
   "cell_type": "code",
   "execution_count": null,
   "metadata": {},
   "outputs": [],
   "source": [
    "test_df = pd.read_csv('/home/ubuntu/glue_data/ARD/test.tsv',delimiter='\\t')"
   ]
  }
 ],
 "metadata": {
  "kernelspec": {
   "display_name": "Python 3",
   "language": "python",
   "name": "python3"
  },
  "language_info": {
   "codemirror_mode": {
    "name": "ipython",
    "version": 3
   },
   "file_extension": ".py",
   "mimetype": "text/x-python",
   "name": "python",
   "nbconvert_exporter": "python",
   "pygments_lexer": "ipython3",
   "version": "3.6.4"
  }
 },
 "nbformat": 4,
 "nbformat_minor": 2
}
