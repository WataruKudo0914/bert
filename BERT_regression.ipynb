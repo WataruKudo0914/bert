{
 "cells": [
  {
   "cell_type": "markdown",
   "metadata": {},
   "source": [
    "# Bert Regressor"
   ]
  },
  {
   "cell_type": "code",
   "execution_count": 1,
   "metadata": {
    "scrolled": false
   },
   "outputs": [
    {
     "name": "stderr",
     "output_type": "stream",
     "text": [
      "/home/ubuntu/anaconda3/lib/python3.6/site-packages/h5py/__init__.py:36: FutureWarning: Conversion of the second argument of issubdtype from `float` to `np.floating` is deprecated. In future, it will be treated as `np.float64 == np.dtype(float).type`.\n",
      "  from ._conv import register_converters as _register_converters\n",
      "/home/ubuntu/anaconda3/lib/python3.6/site-packages/matplotlib/__init__.py:1067: UserWarning: Duplicate key in file \"/home/ubuntu/.config/matplotlib/matplotlibrc\", line #2\n",
      "  (fname, cnt))\n",
      "/home/ubuntu/anaconda3/lib/python3.6/site-packages/matplotlib/__init__.py:1067: UserWarning: Duplicate key in file \"/home/ubuntu/.config/matplotlib/matplotlibrc\", line #3\n",
      "  (fname, cnt))\n"
     ]
    }
   ],
   "source": [
    "import tensorflow as tf\n",
    "import modeling\n",
    "import tokenization\n",
    "import optimization\n",
    "import run_regressor\n",
    "import os\n",
    "import numpy as np\n",
    "import pandas as pd\n",
    "import matplotlib.pyplot as plt\n",
    "%matplotlib inline"
   ]
  },
  {
   "cell_type": "markdown",
   "metadata": {},
   "source": [
    "## Preprocessing for Data\n",
    "give indice to reviewerID, asin"
   ]
  },
  {
   "cell_type": "code",
   "execution_count": 2,
   "metadata": {},
   "outputs": [],
   "source": [
    "train_df = pd.read_csv('/home/ubuntu/glue_data/ARD/train.tsv','\\t')\n",
    "dev_df = pd.read_csv('/home/ubuntu/glue_data/ARD/dev.tsv','\\t')\n",
    "test_df = pd.read_csv('/home/ubuntu/glue_data/ARD/test.tsv','\\t')\n",
    "all_df = train_df.append(dev_df).append(test_df)"
   ]
  },
  {
   "cell_type": "code",
   "execution_count": 3,
   "metadata": {},
   "outputs": [],
   "source": [
    "from sklearn.preprocessing import LabelEncoder\n",
    "label_encoder = LabelEncoder()\n",
    "label_encoder.fit(np.hstack((all_df.asin,all_df.reviewerID)))\n",
    "def add_indice_cols(df):\n",
    "    df_ = df.copy()\n",
    "    df_['user_id'] = label_encoder.transform(df_['reviewerID'])\n",
    "    df_['item_id'] = label_encoder.transform(df_['asin'])\n",
    "    return df_"
   ]
  },
  {
   "cell_type": "code",
   "execution_count": 4,
   "metadata": {},
   "outputs": [],
   "source": [
    "train_df = add_indice_cols(train_df)\n",
    "dev_df = add_indice_cols(dev_df)\n",
    "test_df = add_indice_cols(test_df)"
   ]
  },
  {
   "cell_type": "code",
   "execution_count": 5,
   "metadata": {},
   "outputs": [],
   "source": [
    "from sklearn.model_selection import train_test_split"
   ]
  },
  {
   "cell_type": "code",
   "execution_count": 6,
   "metadata": {},
   "outputs": [],
   "source": [
    "train_df, dev_df = train_test_split(train_df.append(dev_df), test_size=0.33, shuffle=True)"
   ]
  },
  {
   "cell_type": "code",
   "execution_count": 7,
   "metadata": {},
   "outputs": [],
   "source": [
    "train_df.to_csv('/home/ubuntu/glue_data/ARD/train.tsv',sep='\\t',index=None)\n",
    "dev_df.to_csv('/home/ubuntu/glue_data/ARD/dev.tsv',sep='\\t',index=None)\n",
    "test_df.to_csv('/home/ubuntu/glue_data/ARD/test.tsv',sep='\\t',index=None)"
   ]
  },
  {
   "cell_type": "markdown",
   "metadata": {},
   "source": [
    "## Defining args"
   ]
  },
  {
   "cell_type": "code",
   "execution_count": 9,
   "metadata": {},
   "outputs": [],
   "source": [
    "bert_config_file = '/home/ubuntu/bert_models/uncased_L-12_H-768_A-12/bert_config.json'\n",
    "bert_config = modeling.BertConfig.from_json_file(bert_config_file)\n",
    "vocab_file = '/home/ubuntu/bert_models/uncased_L-12_H-768_A-12/vocab.txt'\n",
    "max_seq_length = 128\n",
    "train_batch_size = 32\n",
    "eval_batch_size = 32\n",
    "predict_batch_size = 32\n",
    "num_train_epochs=3.0\n",
    "warmup_proportion = 0.1\n",
    "\n",
    "''' tpu '''\n",
    "save_checkpoints_steps = 1000\n",
    "iterations_per_loop = 1000\n",
    "\n",
    "DATA_DIR = '/home/ubuntu/glue_data/ARD/'\n",
    "BERT_BASE_DIR = '/home/ubuntu/bert_models/uncased_L-12_H-768_A-12'\n",
    "INIT_CHECKPOINT = '/home/ubuntu/bert_models/uncased_L-12_H-768_A-12/bert_model.ckpt'"
   ]
  },
  {
   "cell_type": "markdown",
   "metadata": {},
   "source": [
    "## Defining methods"
   ]
  },
  {
   "cell_type": "code",
   "execution_count": 10,
   "metadata": {},
   "outputs": [],
   "source": [
    "# using only textual information\n",
    "def create_model(bert_config, is_training, input_ids, input_mask, segment_ids,values):\n",
    "    \"\"\"Creates a regression model.\"\"\"\n",
    "    model = modeling.BertModel(\n",
    "      config=bert_config,\n",
    "      is_training=is_training,\n",
    "      input_ids=input_ids,\n",
    "      input_mask=input_mask,\n",
    "      token_type_ids=segment_ids)\n",
    "\n",
    "    output_layer = model.get_pooled_output()\n",
    "\n",
    "    hidden_size = output_layer.shape[-1].value\n",
    "\n",
    "    output_weights = tf.get_variable(\n",
    "      \"output_weights\", [1, hidden_size],\n",
    "      initializer=tf.truncated_normal_initializer(stddev=0.02))\n",
    "\n",
    "    output_bias = tf.get_variable(\n",
    "      \"output_bias\", [1], initializer=tf.zeros_initializer())\n",
    "\n",
    "    with tf.variable_scope(\"loss\"):\n",
    "        if is_training:\n",
    "          # I.e., 0.1 dropout\n",
    "          output_layer = tf.nn.dropout(output_layer, keep_prob=0.9)\n",
    "\n",
    "        logits = tf.matmul(output_layer, output_weights, transpose_b=True)\n",
    "        logits = tf.nn.bias_add(logits, output_bias)\n",
    "        logits = tf.squeeze(logits)\n",
    "        loss = tf.losses.mean_squared_error(values,logits)\n",
    "\n",
    "    return (loss, logits)"
   ]
  },
  {
   "cell_type": "markdown",
   "metadata": {},
   "source": [
    "レビュワー・商品のコンテクストを取り入れる"
   ]
  },
  {
   "cell_type": "code",
   "execution_count": 11,
   "metadata": {},
   "outputs": [],
   "source": [
    "def get_distribution(df):\n",
    "    user_cnt_dist = df.groupby(['user_id','overall'])['helpful_rate'].count().unstack(1,fill_value=0)\n",
    "    item_cnt_dist = df.groupby(['item_id','overall'])['helpful_rate'].count().unstack(1,fill_value=0)\n",
    "    all_cnt_dist = user_cnt_dist.append(item_cnt_dist).sort_index()\n",
    "    all_dist = all_cnt_dist.apply(lambda x:x/sum(x),1)\n",
    "    return all_dist"
   ]
  },
  {
   "cell_type": "code",
   "execution_count": 12,
   "metadata": {},
   "outputs": [],
   "source": [
    "# using textual and user-item contextual information\n",
    "def create_model2(bert_config, is_training, input_ids, input_mask, segment_ids,values,user_id,item_id,overall):\n",
    "    \"\"\"Creates a regression model.\"\"\"\n",
    "    # text information\n",
    "    model = modeling.BertModel(\n",
    "      config=bert_config,\n",
    "      is_training=is_training,\n",
    "      input_ids=input_ids,\n",
    "      input_mask=input_mask,\n",
    "      token_type_ids=segment_ids)\n",
    "\n",
    "    output_layer = model.get_pooled_output()\n",
    "    \n",
    "    \n",
    "    # User and Item and this rating information\n",
    "    user_item_emb = tf.constant(get_distribution(all_df).values,dtype=tf.float32)\n",
    "    user_dist = tf.nn.embedding_lookup(user_item_emb,user_id)\n",
    "    item_dist = tf.nn.embedding_lookup(user_item_emb,item_id)\n",
    "    rating_onehot = tf.one_hot(overall-1,depth=5,dtype=tf.float32)\n",
    "    historical_ = tf.concat([user_dist,item_dist,rating_onehot],1)\n",
    "    historical = tf.layers.dense(historical_,historical_.shape[-1].value)\n",
    "    \n",
    "    # concat\n",
    "    bert_historical = tf.concat([output_layer,historical],1)\n",
    "    \n",
    "    hidden_size = bert_historical.shape[-1].value\n",
    "    \n",
    "    output_weights = tf.get_variable(\n",
    "      \"output_weights\", [1, hidden_size],\n",
    "      initializer=tf.truncated_normal_initializer(stddev=0.02))\n",
    "\n",
    "    output_bias = tf.get_variable(\n",
    "      \"output_bias\", [1], initializer=tf.zeros_initializer())\n",
    "\n",
    "    with tf.variable_scope(\"loss\"):\n",
    "        if is_training:\n",
    "          # I.e., 0.1 dropout\n",
    "          output_layer = tf.nn.dropout(output_layer, keep_prob=0.9)\n",
    "\n",
    "        logits = tf.matmul(bert_historical, output_weights, transpose_b=True)\n",
    "        logits = tf.nn.bias_add(logits, output_bias)\n",
    "        logits = tf.squeeze(logits)\n",
    "        loss = tf.losses.mean_squared_error(values,logits)\n",
    "\n",
    "    return (loss, logits)"
   ]
  },
  {
   "cell_type": "code",
   "execution_count": 13,
   "metadata": {},
   "outputs": [],
   "source": [
    "def model_fn_builder(bert_config, init_checkpoint, learning_rate,\n",
    "                     num_train_steps, num_warmup_steps, use_tpu=False):\n",
    "  \"\"\"Returns `model_fn` closure\"\"\"\n",
    "\n",
    "  def model_fn(features, labels, mode, params):  # pylint: disable=unused-argument\n",
    "    \"\"\"The `model_fn` for TPUEstimator.\"\"\"\n",
    "    input_ids = features[\"input_ids\"]\n",
    "    input_mask = features[\"input_mask\"]\n",
    "    segment_ids = features[\"segment_ids\"]\n",
    "    values = features[\"values\"]\n",
    "    user_id = features[\"user_id\"]\n",
    "    item_id = features[\"item_id\"]\n",
    "    overall = features[\"overall\"]\n",
    "\n",
    "    is_training = (mode == tf.estimator.ModeKeys.TRAIN)\n",
    "\n",
    "    (total_loss, logits) = create_model2(\n",
    "        bert_config, is_training, input_ids, input_mask, segment_ids, values,user_id,item_id,overall)\n",
    "#     (total_loss, logits) = create_model(\n",
    "#         bert_config, is_training, input_ids, input_mask, segment_ids, values)\n",
    "\n",
    "    tvars = tf.trainable_variables()\n",
    "    initialized_variable_names = {}\n",
    "    scaffold_fn = None\n",
    "    if init_checkpoint:\n",
    "        (assignment_map, initialized_variable_names\n",
    "              ) = modeling.get_assignment_map_from_checkpoint(tvars, init_checkpoint)\n",
    "        if use_tpu:\n",
    "\n",
    "            def tpu_scaffold():\n",
    "                tf.train.init_from_checkpoint(init_checkpoint, assignment_map)\n",
    "                return tf.train.Scaffold()\n",
    "\n",
    "            scaffold_fn = tpu_scaffold\n",
    "        else:\n",
    "            tf.train.init_from_checkpoint(init_checkpoint, assignment_map)\n",
    "\n",
    "    output_spec = None\n",
    "    if mode == tf.estimator.ModeKeys.TRAIN:\n",
    "\n",
    "        train_op = optimization.create_optimizer(total_loss, learning_rate, num_train_steps, num_warmup_steps, use_tpu)\n",
    "\n",
    "        output_spec = tf.contrib.tpu.TPUEstimatorSpec(\n",
    "                              mode=mode,\n",
    "                              loss=total_loss,\n",
    "                              train_op=train_op,\n",
    "                              scaffold_fn=scaffold_fn)\n",
    "    elif mode == tf.estimator.ModeKeys.EVAL:\n",
    "\n",
    "        def metric_fn(total_loss, logits):\n",
    "            return {\n",
    "                \"eval_loss\": tf.metrics.mean_squared_error(labels=values,predictions=logits),\n",
    "            }\n",
    "\n",
    "        eval_metrics = (metric_fn, [total_loss, logits])\n",
    "        output_spec = tf.contrib.tpu.TPUEstimatorSpec(\n",
    "          mode=mode,\n",
    "          loss=total_loss,\n",
    "          eval_metrics=eval_metrics,\n",
    "          scaffold_fn=scaffold_fn)\n",
    "    else:\n",
    "        output_spec = tf.contrib.tpu.TPUEstimatorSpec(\n",
    "            mode=mode, predictions=logits, scaffold_fn=scaffold_fn)\n",
    "    return output_spec\n",
    "\n",
    "  return model_fn\n"
   ]
  },
  {
   "cell_type": "code",
   "execution_count": 14,
   "metadata": {},
   "outputs": [],
   "source": [
    "def input_fn_builder(features, seq_length, is_training, drop_remainder):\n",
    "    \"\"\"Creates an `input_fn` closure to be passed to TPUEstimator.\"\"\"\n",
    "\n",
    "    all_input_ids = []\n",
    "    all_input_mask = []\n",
    "    all_segment_ids = []\n",
    "    all_label_ids = []\n",
    "    all_user_ids = []\n",
    "    all_item_ids = []\n",
    "    all_overalls = []\n",
    "\n",
    "    for feature in features:\n",
    "        all_input_ids.append(feature.input_ids)\n",
    "        all_input_mask.append(feature.input_mask)\n",
    "        all_segment_ids.append(feature.segment_ids)\n",
    "        all_label_ids.append(feature.label_id)\n",
    "        all_user_ids.append(feature.user_id)\n",
    "        all_item_ids.append(feature.item_id)\n",
    "        all_overalls.append(feature.overall)\n",
    "  \n",
    "    def input_fn(params):\n",
    "        \"\"\"The actual input function.\"\"\"\n",
    "        batch_size = params[\"batch_size\"]\n",
    "\n",
    "        num_examples = len(features)\n",
    "\n",
    "        # This is for demo purposes and does NOT scale to large data sets. We do\n",
    "        # not use Dataset.from_generator() because that uses tf.py_func which is\n",
    "        # not TPU compatible. The right way to load data is with TFRecordReader.\n",
    "        d = tf.data.Dataset.from_tensor_slices({\n",
    "            \"input_ids\":\n",
    "                tf.constant(\n",
    "                    all_input_ids, shape=[num_examples, seq_length],\n",
    "                    dtype=tf.int32),\n",
    "            \"input_mask\":\n",
    "                tf.constant(\n",
    "                    all_input_mask,\n",
    "                    shape=[num_examples, seq_length],\n",
    "                    dtype=tf.int32),\n",
    "            \"segment_ids\":\n",
    "                tf.constant(\n",
    "                    all_segment_ids,\n",
    "                    shape=[num_examples, seq_length],\n",
    "                    dtype=tf.int32),\n",
    "            \"values\":\n",
    "                tf.constant(all_label_ids, shape=[num_examples], dtype=tf.float32),\n",
    "            \"user_id\":\n",
    "                tf.constant(all_user_ids,shape=[num_examples],dtype=tf.int32),\n",
    "            \"item_id\":\n",
    "                tf.constant(all_item_ids,shape=[num_examples],dtype=tf.int32),\n",
    "            \"overall\":\n",
    "                tf.constant(all_overalls,shape=[num_examples],dtype=tf.int32),\n",
    "        })\n",
    "\n",
    "        if is_training:\n",
    "            d = d.repeat()\n",
    "            d = d.shuffle(buffer_size=100)\n",
    "\n",
    "        d = d.batch(batch_size=batch_size, drop_remainder=drop_remainder)\n",
    "        return d\n",
    "\n",
    "    return input_fn"
   ]
  },
  {
   "cell_type": "markdown",
   "metadata": {},
   "source": [
    "## Construct Estimator"
   ]
  },
  {
   "cell_type": "code",
   "execution_count": 15,
   "metadata": {},
   "outputs": [],
   "source": [
    "OUTPUT_DIR = '/home/ubuntu/tmp/bert_historical/'"
   ]
  },
  {
   "cell_type": "code",
   "execution_count": 16,
   "metadata": {},
   "outputs": [],
   "source": [
    "processor = run_regressor.ArdProcessor()\n",
    "tokenizer = tokenization.FullTokenizer(vocab_file=vocab_file,do_lower_case=True)"
   ]
  },
  {
   "cell_type": "code",
   "execution_count": 17,
   "metadata": {},
   "outputs": [],
   "source": [
    "train_examples = processor.get_train_examples(DATA_DIR)\n",
    "num_train_steps = int(len(train_examples) / train_batch_size * num_train_epochs)\n",
    "num_warmup_steps = int(num_train_steps * warmup_proportion)"
   ]
  },
  {
   "cell_type": "code",
   "execution_count": 18,
   "metadata": {},
   "outputs": [],
   "source": [
    "# tpu configuration\n",
    "tpu_cluster_resolver = None\n",
    "is_per_host = tf.contrib.tpu.InputPipelineConfig.PER_HOST_V2\n",
    "run_config = tf.contrib.tpu.RunConfig(\n",
    "  cluster=tpu_cluster_resolver,\n",
    "  master=None,\n",
    "  model_dir=OUTPUT_DIR,\n",
    "  save_checkpoints_steps=save_checkpoints_steps,\n",
    "  tpu_config=tf.contrib.tpu.TPUConfig(\n",
    "      iterations_per_loop=iterations_per_loop,\n",
    "      num_shards=None,\n",
    "      per_host_input_for_training=is_per_host))\n"
   ]
  },
  {
   "cell_type": "code",
   "execution_count": 19,
   "metadata": {},
   "outputs": [],
   "source": [
    "model_fn = model_fn_builder(bert_config=bert_config,\n",
    "                            init_checkpoint=INIT_CHECKPOINT,\n",
    "                            learning_rate=2e-5,\n",
    "                            num_train_steps=num_train_steps,\n",
    "                            num_warmup_steps=num_warmup_steps)"
   ]
  },
  {
   "cell_type": "code",
   "execution_count": 20,
   "metadata": {},
   "outputs": [
    {
     "name": "stdout",
     "output_type": "stream",
     "text": [
      "WARNING:tensorflow:Estimator's model_fn (<function model_fn_builder.<locals>.model_fn at 0x7faf9ccd4620>) includes params argument, but params are not passed to Estimator.\n",
      "INFO:tensorflow:Using config: {'_model_dir': '/home/ubuntu/tmp/bert_historical/', '_tf_random_seed': None, '_save_summary_steps': 100, '_save_checkpoints_steps': 1000, '_save_checkpoints_secs': None, '_session_config': allow_soft_placement: true\n",
      "graph_options {\n",
      "  rewrite_options {\n",
      "    meta_optimizer_iterations: ONE\n",
      "  }\n",
      "}\n",
      ", '_keep_checkpoint_max': 5, '_keep_checkpoint_every_n_hours': 10000, '_log_step_count_steps': None, '_train_distribute': None, '_device_fn': None, '_protocol': None, '_eval_distribute': None, '_experimental_distribute': None, '_service': None, '_cluster_spec': <tensorflow.python.training.server_lib.ClusterSpec object at 0x7fafad4f8240>, '_task_type': 'worker', '_task_id': 0, '_global_id_in_cluster': 0, '_master': '', '_evaluation_master': '', '_is_chief': True, '_num_ps_replicas': 0, '_num_worker_replicas': 1, '_tpu_config': TPUConfig(iterations_per_loop=1000, num_shards=None, num_cores_per_replica=None, per_host_input_for_training=3, tpu_job_name=None, initial_infeed_sleep_secs=None, input_partition_dims=None), '_cluster': None}\n",
      "INFO:tensorflow:_TPUContext: eval_on_tpu True\n",
      "WARNING:tensorflow:eval_on_tpu ignored because use_tpu is False.\n"
     ]
    }
   ],
   "source": [
    "estimator = tf.contrib.tpu.TPUEstimator(\n",
    "    use_tpu=False,\n",
    "    model_fn=model_fn,\n",
    "    config=run_config,\n",
    "    train_batch_size=train_batch_size,\n",
    "    eval_batch_size=eval_batch_size,\n",
    "    predict_batch_size=predict_batch_size)"
   ]
  },
  {
   "cell_type": "code",
   "execution_count": null,
   "metadata": {},
   "outputs": [],
   "source": []
  },
  {
   "cell_type": "markdown",
   "metadata": {},
   "source": [
    "## Training"
   ]
  },
  {
   "cell_type": "code",
   "execution_count": null,
   "metadata": {},
   "outputs": [],
   "source": [
    "train_examples = processor.get_train_examples(DATA_DIR)"
   ]
  },
  {
   "cell_type": "code",
   "execution_count": null,
   "metadata": {},
   "outputs": [],
   "source": [
    "train_features = run_regressor.convert_examples_to_features(train_examples,max_seq_length=max_seq_length,tokenizer=tokenizer)"
   ]
  },
  {
   "cell_type": "code",
   "execution_count": null,
   "metadata": {},
   "outputs": [],
   "source": [
    "train_input_fn = input_fn_builder(train_features,max_seq_length,is_training=True,drop_remainder=True)"
   ]
  },
  {
   "cell_type": "code",
   "execution_count": null,
   "metadata": {},
   "outputs": [],
   "source": [
    "estimator.train(input_fn=train_input_fn, max_steps=num_train_steps)"
   ]
  },
  {
   "cell_type": "markdown",
   "metadata": {},
   "source": [
    "## Evaluation"
   ]
  },
  {
   "cell_type": "code",
   "execution_count": null,
   "metadata": {},
   "outputs": [],
   "source": [
    "eval_examples = processor.get_dev_examples(DATA_DIR)"
   ]
  },
  {
   "cell_type": "code",
   "execution_count": null,
   "metadata": {},
   "outputs": [],
   "source": [
    "eval_features = run_regressor.convert_examples_to_features(eval_examples,max_seq_length=max_seq_length,tokenizer=tokenizer)"
   ]
  },
  {
   "cell_type": "code",
   "execution_count": null,
   "metadata": {},
   "outputs": [],
   "source": [
    "# This tells the estimator to run through the entire set.\n",
    "eval_steps = None"
   ]
  },
  {
   "cell_type": "code",
   "execution_count": null,
   "metadata": {},
   "outputs": [],
   "source": [
    "eval_input_fn = input_fn_builder(eval_features,max_seq_length,is_training=False,drop_remainder=False)"
   ]
  },
  {
   "cell_type": "code",
   "execution_count": null,
   "metadata": {},
   "outputs": [],
   "source": [
    "result = estimator.evaluate(input_fn=eval_input_fn, steps=eval_steps)"
   ]
  },
  {
   "cell_type": "code",
   "execution_count": null,
   "metadata": {},
   "outputs": [],
   "source": [
    "result"
   ]
  },
  {
   "cell_type": "markdown",
   "metadata": {},
   "source": [
    "## Prediction"
   ]
  },
  {
   "cell_type": "code",
   "execution_count": 21,
   "metadata": {},
   "outputs": [],
   "source": [
    "predict_examples = processor.get_dev_examples(DATA_DIR)"
   ]
  },
  {
   "cell_type": "code",
   "execution_count": 22,
   "metadata": {},
   "outputs": [
    {
     "name": "stdout",
     "output_type": "stream",
     "text": [
      "INFO:tensorflow:Writing example 0 of 16500\n",
      "INFO:tensorflow:*** Example ***\n",
      "INFO:tensorflow:guid: dev-0\n",
      "INFO:tensorflow:tokens: [CLS] i ' m a pc guy , i ' ve owned pc for 20 years and done professional support on them for over a decade and i ' ve never seen service as i ' ve seen with the mac ##book pro 15 \" the machine itself is sleek and pretty , the display looks nice and it has a comfortable fit to it . the processor etc seems to do what needs to be done and does it well . it is however twice the price of a compatible pc . that in itself wouldn ' t be much of a problem . until there was a problem . my son wanted a mac , as his first machine , since he was paying for [SEP]\n",
      "INFO:tensorflow:input_ids: 101 1045 1005 1049 1037 7473 3124 1010 1045 1005 2310 3079 7473 2005 2322 2086 1998 2589 2658 2490 2006 2068 2005 2058 1037 5476 1998 1045 1005 2310 2196 2464 2326 2004 1045 1005 2310 2464 2007 1996 6097 8654 4013 2321 1000 1996 3698 2993 2003 21185 1998 3492 1010 1996 4653 3504 3835 1998 2009 2038 1037 6625 4906 2000 2009 1012 1996 13151 4385 3849 2000 2079 2054 3791 2000 2022 2589 1998 2515 2009 2092 1012 2009 2003 2174 3807 1996 3976 1997 1037 11892 7473 1012 2008 1999 2993 2876 1005 1056 2022 2172 1997 1037 3291 1012 2127 2045 2001 1037 3291 1012 2026 2365 2359 1037 6097 1010 2004 2010 2034 3698 1010 2144 2002 2001 7079 2005 102\n",
      "INFO:tensorflow:input_mask: 1 1 1 1 1 1 1 1 1 1 1 1 1 1 1 1 1 1 1 1 1 1 1 1 1 1 1 1 1 1 1 1 1 1 1 1 1 1 1 1 1 1 1 1 1 1 1 1 1 1 1 1 1 1 1 1 1 1 1 1 1 1 1 1 1 1 1 1 1 1 1 1 1 1 1 1 1 1 1 1 1 1 1 1 1 1 1 1 1 1 1 1 1 1 1 1 1 1 1 1 1 1 1 1 1 1 1 1 1 1 1 1 1 1 1 1 1 1 1 1 1 1 1 1 1 1 1 1\n",
      "INFO:tensorflow:segment_ids: 0 0 0 0 0 0 0 0 0 0 0 0 0 0 0 0 0 0 0 0 0 0 0 0 0 0 0 0 0 0 0 0 0 0 0 0 0 0 0 0 0 0 0 0 0 0 0 0 0 0 0 0 0 0 0 0 0 0 0 0 0 0 0 0 0 0 0 0 0 0 0 0 0 0 0 0 0 0 0 0 0 0 0 0 0 0 0 0 0 0 0 0 0 0 0 0 0 0 0 0 0 0 0 0 0 0 0 0 0 0 0 0 0 0 0 0 0 0 0 0 0 0 0 0 0 0 0 0\n",
      "INFO:tensorflow:*** Example ***\n",
      "INFO:tensorflow:guid: dev-1\n",
      "INFO:tensorflow:tokens: [CLS] this battery has 1800 ##mah while the sony has 210 ##0 ##mah . . . go for the sony ! [SEP]\n",
      "INFO:tensorflow:input_ids: 101 2023 6046 2038 9807 25687 2096 1996 8412 2038 12875 2692 25687 1012 1012 1012 2175 2005 1996 8412 999 102 0 0 0 0 0 0 0 0 0 0 0 0 0 0 0 0 0 0 0 0 0 0 0 0 0 0 0 0 0 0 0 0 0 0 0 0 0 0 0 0 0 0 0 0 0 0 0 0 0 0 0 0 0 0 0 0 0 0 0 0 0 0 0 0 0 0 0 0 0 0 0 0 0 0 0 0 0 0 0 0 0 0 0 0 0 0 0 0 0 0 0 0 0 0 0 0 0 0 0 0 0 0 0 0 0 0\n",
      "INFO:tensorflow:input_mask: 1 1 1 1 1 1 1 1 1 1 1 1 1 1 1 1 1 1 1 1 1 1 0 0 0 0 0 0 0 0 0 0 0 0 0 0 0 0 0 0 0 0 0 0 0 0 0 0 0 0 0 0 0 0 0 0 0 0 0 0 0 0 0 0 0 0 0 0 0 0 0 0 0 0 0 0 0 0 0 0 0 0 0 0 0 0 0 0 0 0 0 0 0 0 0 0 0 0 0 0 0 0 0 0 0 0 0 0 0 0 0 0 0 0 0 0 0 0 0 0 0 0 0 0 0 0 0 0\n",
      "INFO:tensorflow:segment_ids: 0 0 0 0 0 0 0 0 0 0 0 0 0 0 0 0 0 0 0 0 0 0 0 0 0 0 0 0 0 0 0 0 0 0 0 0 0 0 0 0 0 0 0 0 0 0 0 0 0 0 0 0 0 0 0 0 0 0 0 0 0 0 0 0 0 0 0 0 0 0 0 0 0 0 0 0 0 0 0 0 0 0 0 0 0 0 0 0 0 0 0 0 0 0 0 0 0 0 0 0 0 0 0 0 0 0 0 0 0 0 0 0 0 0 0 0 0 0 0 0 0 0 0 0 0 0 0 0\n",
      "INFO:tensorflow:*** Example ***\n",
      "INFO:tensorflow:guid: dev-2\n",
      "INFO:tensorflow:tokens: [CLS] i bought one of these to connect to a new ave ##rdi ##gi card i purchased for my computer . to be honest , the motivation was that it had a sony image sensor a good number of ir led ' s and one of the lowest prices i ' ve seen . so far this camera has been excellent . it ' s not the sharpe ##st resolution , and certainly doesn ' t compare to what you would get for a lot more money , but for a simple camera it ' s great . the picture quality both day and night is good , body and mount are solid . you can see the ir led ' s at night ( faint red [SEP]\n",
      "INFO:tensorflow:input_ids: 101 1045 4149 2028 1997 2122 2000 7532 2000 1037 2047 13642 17080 5856 4003 1045 4156 2005 2026 3274 1012 2000 2022 7481 1010 1996 14354 2001 2008 2009 2018 1037 8412 3746 13617 1037 2204 2193 1997 20868 2419 1005 1055 1998 2028 1997 1996 7290 7597 1045 1005 2310 2464 1012 2061 2521 2023 4950 2038 2042 6581 1012 2009 1005 1055 2025 1996 22147 3367 5813 1010 1998 5121 2987 1005 1056 12826 2000 2054 2017 2052 2131 2005 1037 2843 2062 2769 1010 2021 2005 1037 3722 4950 2009 1005 1055 2307 1012 1996 3861 3737 2119 2154 1998 2305 2003 2204 1010 2303 1998 4057 2024 5024 1012 2017 2064 2156 1996 20868 2419 1005 1055 2012 2305 1006 8143 2417 102\n",
      "INFO:tensorflow:input_mask: 1 1 1 1 1 1 1 1 1 1 1 1 1 1 1 1 1 1 1 1 1 1 1 1 1 1 1 1 1 1 1 1 1 1 1 1 1 1 1 1 1 1 1 1 1 1 1 1 1 1 1 1 1 1 1 1 1 1 1 1 1 1 1 1 1 1 1 1 1 1 1 1 1 1 1 1 1 1 1 1 1 1 1 1 1 1 1 1 1 1 1 1 1 1 1 1 1 1 1 1 1 1 1 1 1 1 1 1 1 1 1 1 1 1 1 1 1 1 1 1 1 1 1 1 1 1 1 1\n",
      "INFO:tensorflow:segment_ids: 0 0 0 0 0 0 0 0 0 0 0 0 0 0 0 0 0 0 0 0 0 0 0 0 0 0 0 0 0 0 0 0 0 0 0 0 0 0 0 0 0 0 0 0 0 0 0 0 0 0 0 0 0 0 0 0 0 0 0 0 0 0 0 0 0 0 0 0 0 0 0 0 0 0 0 0 0 0 0 0 0 0 0 0 0 0 0 0 0 0 0 0 0 0 0 0 0 0 0 0 0 0 0 0 0 0 0 0 0 0 0 0 0 0 0 0 0 0 0 0 0 0 0 0 0 0 0 0\n",
      "INFO:tensorflow:*** Example ***\n",
      "INFO:tensorflow:guid: dev-3\n",
      "INFO:tensorflow:tokens: [CLS] pro ##s : center performance wide open ##cor ##ner performance stopped down ##bu ##il ##d quality ##con ##s : corner performance wide open ##fo ##cus / clutch mechanism is cl ##unk ##yde ##si ##gn prohibits the use of filters ##ear ##ly model lens cap ( contact your local to ##kin ##a distributor for the new cap , th ##k photo in the us ) bottom line : superb ultra wide angle for full frame , especially strong in the 16 - 24 ##mm range , gets weaker by 28 ##mm . stepped down it can deliver crisp sharp ##ness even in the most extreme corners . i give it 5 stars due to the price / performance ratio . i shoot test charts and real world [SEP]\n",
      "INFO:tensorflow:input_ids: 101 4013 2015 1024 2415 2836 2898 2330 27108 3678 2836 3030 2091 8569 4014 2094 3737 8663 2015 1024 3420 2836 2898 2330 14876 7874 1013 15357 7337 2003 18856 16814 18124 5332 16206 25822 1996 2224 1997 17736 14644 2135 2944 10014 6178 1006 3967 2115 2334 2000 4939 2050 16632 2005 1996 2047 6178 1010 16215 2243 6302 1999 1996 2149 1007 3953 2240 1024 21688 11087 2898 6466 2005 2440 4853 1010 2926 2844 1999 1996 2385 1011 2484 7382 2846 1010 4152 15863 2011 2654 7382 1012 3706 2091 2009 2064 8116 15594 4629 2791 2130 1999 1996 2087 6034 8413 1012 1045 2507 2009 1019 3340 2349 2000 1996 3976 1013 2836 6463 1012 1045 5607 3231 6093 1998 2613 2088 102\n",
      "INFO:tensorflow:input_mask: 1 1 1 1 1 1 1 1 1 1 1 1 1 1 1 1 1 1 1 1 1 1 1 1 1 1 1 1 1 1 1 1 1 1 1 1 1 1 1 1 1 1 1 1 1 1 1 1 1 1 1 1 1 1 1 1 1 1 1 1 1 1 1 1 1 1 1 1 1 1 1 1 1 1 1 1 1 1 1 1 1 1 1 1 1 1 1 1 1 1 1 1 1 1 1 1 1 1 1 1 1 1 1 1 1 1 1 1 1 1 1 1 1 1 1 1 1 1 1 1 1 1 1 1 1 1 1 1\n",
      "INFO:tensorflow:segment_ids: 0 0 0 0 0 0 0 0 0 0 0 0 0 0 0 0 0 0 0 0 0 0 0 0 0 0 0 0 0 0 0 0 0 0 0 0 0 0 0 0 0 0 0 0 0 0 0 0 0 0 0 0 0 0 0 0 0 0 0 0 0 0 0 0 0 0 0 0 0 0 0 0 0 0 0 0 0 0 0 0 0 0 0 0 0 0 0 0 0 0 0 0 0 0 0 0 0 0 0 0 0 0 0 0 0 0 0 0 0 0 0 0 0 0 0 0 0 0 0 0 0 0 0 0 0 0 0 0\n",
      "INFO:tensorflow:*** Example ***\n",
      "INFO:tensorflow:guid: dev-4\n",
      "INFO:tensorflow:tokens: [CLS] i just purchased these buds tonight on 11 / 6 / 06 for $ 20 . as soon as i got into the car , i quickly plug ##ged them into my ir ##iver h ##12 ##0 mp3 player . for reference , i currently own the j ##vc ha - fx ##55 , ha - f1 ##20 , sen ##nh ##eis ##er c ##x ##30 ##0 , and audio tech ##nica at ##h - ck ##7 . first , just a note , my ha - fx ##55 took at least 20 hr ##s to burn in and so this review may be premature . i ' m going to leave them playing overnight and i ' ll am ##men ##d this review if anything [SEP]\n",
      "INFO:tensorflow:input_ids: 101 1045 2074 4156 2122 26734 3892 2006 2340 1013 1020 1013 5757 2005 1002 2322 1012 2004 2574 2004 1045 2288 2046 1996 2482 1010 1045 2855 13354 5999 2068 2046 2026 20868 16402 1044 12521 2692 23378 2447 1012 2005 4431 1010 1045 2747 2219 1996 1046 25465 5292 1011 23292 24087 1010 5292 1011 20069 11387 1010 12411 25311 17580 2121 1039 2595 14142 2692 1010 1998 5746 6627 12782 2012 2232 1011 23616 2581 1012 2034 1010 2074 1037 3602 1010 2026 5292 1011 23292 24087 2165 2012 2560 2322 17850 2015 2000 6402 1999 1998 2061 2023 3319 2089 2022 21371 1012 1045 1005 1049 2183 2000 2681 2068 2652 11585 1998 1045 1005 2222 2572 3549 2094 2023 3319 2065 2505 102\n",
      "INFO:tensorflow:input_mask: 1 1 1 1 1 1 1 1 1 1 1 1 1 1 1 1 1 1 1 1 1 1 1 1 1 1 1 1 1 1 1 1 1 1 1 1 1 1 1 1 1 1 1 1 1 1 1 1 1 1 1 1 1 1 1 1 1 1 1 1 1 1 1 1 1 1 1 1 1 1 1 1 1 1 1 1 1 1 1 1 1 1 1 1 1 1 1 1 1 1 1 1 1 1 1 1 1 1 1 1 1 1 1 1 1 1 1 1 1 1 1 1 1 1 1 1 1 1 1 1 1 1 1 1 1 1 1 1\n",
      "INFO:tensorflow:segment_ids: 0 0 0 0 0 0 0 0 0 0 0 0 0 0 0 0 0 0 0 0 0 0 0 0 0 0 0 0 0 0 0 0 0 0 0 0 0 0 0 0 0 0 0 0 0 0 0 0 0 0 0 0 0 0 0 0 0 0 0 0 0 0 0 0 0 0 0 0 0 0 0 0 0 0 0 0 0 0 0 0 0 0 0 0 0 0 0 0 0 0 0 0 0 0 0 0 0 0 0 0 0 0 0 0 0 0 0 0 0 0 0 0 0 0 0 0 0 0 0 0 0 0 0 0 0 0 0 0\n",
      "INFO:tensorflow:Writing example 10000 of 16500\n"
     ]
    }
   ],
   "source": [
    "predict_features = run_regressor.convert_examples_to_features(predict_examples,max_seq_length=max_seq_length,tokenizer=tokenizer)"
   ]
  },
  {
   "cell_type": "code",
   "execution_count": 23,
   "metadata": {},
   "outputs": [],
   "source": [
    "predict_input_fn = input_fn_builder(predict_features,max_seq_length,is_training=False,drop_remainder=False)"
   ]
  },
  {
   "cell_type": "code",
   "execution_count": null,
   "metadata": {},
   "outputs": [],
   "source": []
  },
  {
   "cell_type": "code",
   "execution_count": null,
   "metadata": {},
   "outputs": [],
   "source": []
  },
  {
   "cell_type": "code",
   "execution_count": 24,
   "metadata": {},
   "outputs": [],
   "source": [
    "result = estimator.predict(input_fn=predict_input_fn)"
   ]
  },
  {
   "cell_type": "code",
   "execution_count": 25,
   "metadata": {},
   "outputs": [
    {
     "name": "stdout",
     "output_type": "stream",
     "text": [
      "INFO:tensorflow:Calling model_fn.\n",
      "INFO:tensorflow:Running infer on CPU\n",
      "INFO:tensorflow:Done calling model_fn.\n",
      "INFO:tensorflow:Graph was finalized.\n",
      "INFO:tensorflow:Restoring parameters from /home/ubuntu/tmp/bert_historical/model.ckpt-2343\n",
      "INFO:tensorflow:Running local_init_op.\n",
      "INFO:tensorflow:Done running local_init_op.\n",
      "INFO:tensorflow:prediction_loop marked as finished\n",
      "INFO:tensorflow:prediction_loop marked as finished\n"
     ]
    }
   ],
   "source": [
    "prediction = np.array(list(result))"
   ]
  },
  {
   "cell_type": "code",
   "execution_count": 26,
   "metadata": {},
   "outputs": [],
   "source": [
    "labels = np.array([i.label for i in predict_examples])"
   ]
  },
  {
   "cell_type": "code",
   "execution_count": 27,
   "metadata": {},
   "outputs": [
    {
     "data": {
      "text/plain": [
       "<matplotlib.collections.PathCollection at 0x7faf7dd13710>"
      ]
     },
     "execution_count": 27,
     "metadata": {},
     "output_type": "execute_result"
    },
    {
     "data": {
      "image/png": "[encoded data removed]",
      "text/plain": [
       "<Figure size 432x288 with 1 Axes>"
      ]
     },
     "metadata": {},
     "output_type": "display_data"
    }
   ],
   "source": [
    "plt.scatter(labels,prediction)"
   ]
  },
  {
   "cell_type": "code",
   "execution_count": 28,
   "metadata": {},
   "outputs": [],
   "source": [
    "from sklearn.metrics import mean_squared_error,r2_score"
   ]
  },
  {
   "cell_type": "code",
   "execution_count": 29,
   "metadata": {},
   "outputs": [
    {
     "name": "stdout",
     "output_type": "stream",
     "text": [
      "0.022925790956573898\n",
      "0.5529285620852855\n"
     ]
    }
   ],
   "source": [
    "print(mean_squared_error(y_pred=prediction,y_true=labels))\n",
    "\n",
    "print(r2_score(y_pred=prediction,y_true=labels))"
   ]
  },
  {
   "cell_type": "code",
   "execution_count": 30,
   "metadata": {},
   "outputs": [
    {
     "data": {
      "text/plain": [
       "(array([   85.,   298.,   213.,   179.,   214.,   250.,   399.,   867.,\n",
       "         3939., 10056.]),\n",
       " array([-0.02315656,  0.08032277,  0.1838021 ,  0.28728143,  0.39076076,\n",
       "         0.49424009,  0.59771942,  0.70119875,  0.80467808,  0.9081574 ,\n",
       "         1.01163673]),\n",
       " <a list of 10 Patch objects>)"
      ]
     },
     "execution_count": 30,
     "metadata": {},
     "output_type": "execute_result"
    },
    {
     "data": {
      "image/png": "[encoded data removed]",
      "text/plain": [
       "<Figure size 432x288 with 1 Axes>"
      ]
     },
     "metadata": {},
     "output_type": "display_data"
    }
   ],
   "source": [
    "plt.hist(labels,alpha=0.5)\n",
    "plt.hist(prediction,alpha=0.5)"
   ]
  },
  {
   "cell_type": "code",
   "execution_count": null,
   "metadata": {},
   "outputs": [],
   "source": [
    "test_df = pd.read_csv('/home/ubuntu/glue_data/ARD/test.tsv',delimiter='\\t')"
   ]
  }
 ],
 "metadata": {
  "kernelspec": {
   "display_name": "Python 3",
   "language": "python",
   "name": "python3"
  },
  "language_info": {
   "codemirror_mode": {
    "name": "ipython",
    "version": 3
   },
   "file_extension": ".py",
   "mimetype": "text/x-python",
   "name": "python",
   "nbconvert_exporter": "python",
   "pygments_lexer": "ipython3",
   "version": "3.6.4"
  }
 },
 "nbformat": 4,
 "nbformat_minor": 2
}
