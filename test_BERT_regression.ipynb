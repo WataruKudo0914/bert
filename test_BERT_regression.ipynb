{
 "cells": [
  {
   "cell_type": "markdown",
   "metadata": {},
   "source": [
    "# Bert Regressor"
   ]
  },
  {
   "cell_type": "code",
   "execution_count": 1,
   "metadata": {
    "scrolled": false
   },
   "outputs": [
    {
     "name": "stderr",
     "output_type": "stream",
     "text": [
      "/home/ubuntu/anaconda3/lib/python3.6/site-packages/h5py/__init__.py:36: FutureWarning: Conversion of the second argument of issubdtype from `float` to `np.floating` is deprecated. In future, it will be treated as `np.float64 == np.dtype(float).type`.\n",
      "  from ._conv import register_converters as _register_converters\n",
      "/home/ubuntu/anaconda3/lib/python3.6/site-packages/matplotlib/__init__.py:1067: UserWarning: Duplicate key in file \"/home/ubuntu/.config/matplotlib/matplotlibrc\", line #2\n",
      "  (fname, cnt))\n",
      "/home/ubuntu/anaconda3/lib/python3.6/site-packages/matplotlib/__init__.py:1067: UserWarning: Duplicate key in file \"/home/ubuntu/.config/matplotlib/matplotlibrc\", line #3\n",
      "  (fname, cnt))\n"
     ]
    }
   ],
   "source": [
    "import tensorflow as tf\n",
    "import modeling\n",
    "import tokenization\n",
    "\n",
    "import run_regressor"
   ]
  },
  {
   "cell_type": "code",
   "execution_count": 2,
   "metadata": {},
   "outputs": [],
   "source": [
    "bert_config_file = '/home/ubuntu/bert_models/uncased_L-12_H-768_A-12/bert_config.json'\n",
    "bert_config = modeling.BertConfig.from_json_file(bert_config_file)\n",
    "vocab_file = '/home/ubuntu/bert_models/uncased_L-12_H-768_A-12/vocab.txt'"
   ]
  },
  {
   "cell_type": "code",
   "execution_count": 3,
   "metadata": {},
   "outputs": [],
   "source": [
    "max_seq_length = 128"
   ]
  },
  {
   "cell_type": "code",
   "execution_count": null,
   "metadata": {},
   "outputs": [],
   "source": []
  },
  {
   "cell_type": "code",
   "execution_count": 4,
   "metadata": {},
   "outputs": [],
   "source": [
    "processor = run_regressor.ArdProcessor()"
   ]
  },
  {
   "cell_type": "code",
   "execution_count": 5,
   "metadata": {},
   "outputs": [],
   "source": [
    "tokenizer = tokenization.FullTokenizer(vocab_file=vocab_file,do_lower_case=True)"
   ]
  },
  {
   "cell_type": "code",
   "execution_count": 6,
   "metadata": {},
   "outputs": [],
   "source": [
    "test_examples = processor.get_test_examples('/home/ubuntu/glue_data/ARD/')"
   ]
  },
  {
   "cell_type": "code",
   "execution_count": 7,
   "metadata": {
    "scrolled": true
   },
   "outputs": [
    {
     "name": "stdout",
     "output_type": "stream",
     "text": [
      "INFO:tensorflow:Writing example 0 of 3191\n",
      "INFO:tensorflow:*** Example ***\n",
      "INFO:tensorflow:guid: test-0\n",
      "INFO:tensorflow:tokens: [CLS] i purchased this tablet out of enthusiasm for it ' s built in beats audio . while it does have beats audio built in , it is a very limited feature . the overall movement through the tablet is very smooth . however , i noticed early on that what should be beautiful hd graphics were grain ##y and down right ugly . i usually get nice photos on my facebook wall . on my hp laptop , and my samsung tablet the photos look beautiful , but on the slate 7 the pictures are terrible . that was my first concern . second concern , the slate 7 didn ' t come with a built in video player . the primary reason i started using [SEP]\n",
      "INFO:tensorflow:input_ids: 101 1045 4156 2023 13855 2041 1997 12024 2005 2009 1005 1055 2328 1999 10299 5746 1012 2096 2009 2515 2031 10299 5746 2328 1999 1010 2009 2003 1037 2200 3132 3444 1012 1996 3452 2929 2083 1996 13855 2003 2200 5744 1012 2174 1010 1045 4384 2220 2006 2008 2054 2323 2022 3376 10751 8389 2020 8982 2100 1998 2091 2157 9200 1012 1045 2788 2131 3835 7760 2006 2026 9130 2813 1012 2006 2026 6522 12191 1010 1998 2026 19102 13855 1996 7760 2298 3376 1010 2021 2006 1996 12796 1021 1996 4620 2024 6659 1012 2008 2001 2026 2034 5142 1012 2117 5142 1010 1996 12796 1021 2134 1005 1056 2272 2007 1037 2328 1999 2678 2447 1012 1996 3078 3114 1045 2318 2478 102\n",
      "INFO:tensorflow:input_mask: 1 1 1 1 1 1 1 1 1 1 1 1 1 1 1 1 1 1 1 1 1 1 1 1 1 1 1 1 1 1 1 1 1 1 1 1 1 1 1 1 1 1 1 1 1 1 1 1 1 1 1 1 1 1 1 1 1 1 1 1 1 1 1 1 1 1 1 1 1 1 1 1 1 1 1 1 1 1 1 1 1 1 1 1 1 1 1 1 1 1 1 1 1 1 1 1 1 1 1 1 1 1 1 1 1 1 1 1 1 1 1 1 1 1 1 1 1 1 1 1 1 1 1 1 1 1 1 1\n",
      "INFO:tensorflow:segment_ids: 0 0 0 0 0 0 0 0 0 0 0 0 0 0 0 0 0 0 0 0 0 0 0 0 0 0 0 0 0 0 0 0 0 0 0 0 0 0 0 0 0 0 0 0 0 0 0 0 0 0 0 0 0 0 0 0 0 0 0 0 0 0 0 0 0 0 0 0 0 0 0 0 0 0 0 0 0 0 0 0 0 0 0 0 0 0 0 0 0 0 0 0 0 0 0 0 0 0 0 0 0 0 0 0 0 0 0 0 0 0 0 0 0 0 0 0 0 0 0 0 0 0 0 0 0 0 0 0\n",
      "INFO:tensorflow:*** Example ***\n",
      "INFO:tensorflow:guid: test-1\n",
      "INFO:tensorflow:tokens: [CLS] i never really care for android devices . i ' m a hardcore microsoft user and have used 3rd party cheap android tablet that never ever meet my expectation . i receive this hp slate 7 inches as a gift . i checked online and its a relatively cheap tablet and i wasn ' t expecting much from it . i started using it and i was caught by it . . . . it is pretty fast and accurate . the storage is expand ##able with an additional 32 ##gb and 1 . 6 ##gh ##z dual core processor make everything pretty smooth . . . . the tablet feel like a strong device that will not fall apart easily , the cameras are not [SEP]\n",
      "INFO:tensorflow:input_ids: 101 1045 2196 2428 2729 2005 11924 5733 1012 1045 1005 1049 1037 13076 7513 5310 1998 2031 2109 3822 2283 10036 11924 13855 2008 2196 2412 3113 2026 17626 1012 1045 4374 2023 6522 12796 1021 5282 2004 1037 5592 1012 1045 7039 3784 1998 2049 1037 4659 10036 13855 1998 1045 2347 1005 1056 8074 2172 2013 2009 1012 1045 2318 2478 2009 1998 1045 2001 3236 2011 2009 1012 1012 1012 1012 2009 2003 3492 3435 1998 8321 1012 1996 5527 2003 7818 3085 2007 2019 3176 3590 18259 1998 1015 1012 1020 5603 2480 7037 4563 13151 2191 2673 3492 5744 1012 1012 1012 1012 1996 13855 2514 2066 1037 2844 5080 2008 2097 2025 2991 4237 4089 1010 1996 8629 2024 2025 102\n",
      "INFO:tensorflow:input_mask: 1 1 1 1 1 1 1 1 1 1 1 1 1 1 1 1 1 1 1 1 1 1 1 1 1 1 1 1 1 1 1 1 1 1 1 1 1 1 1 1 1 1 1 1 1 1 1 1 1 1 1 1 1 1 1 1 1 1 1 1 1 1 1 1 1 1 1 1 1 1 1 1 1 1 1 1 1 1 1 1 1 1 1 1 1 1 1 1 1 1 1 1 1 1 1 1 1 1 1 1 1 1 1 1 1 1 1 1 1 1 1 1 1 1 1 1 1 1 1 1 1 1 1 1 1 1 1 1\n",
      "INFO:tensorflow:segment_ids: 0 0 0 0 0 0 0 0 0 0 0 0 0 0 0 0 0 0 0 0 0 0 0 0 0 0 0 0 0 0 0 0 0 0 0 0 0 0 0 0 0 0 0 0 0 0 0 0 0 0 0 0 0 0 0 0 0 0 0 0 0 0 0 0 0 0 0 0 0 0 0 0 0 0 0 0 0 0 0 0 0 0 0 0 0 0 0 0 0 0 0 0 0 0 0 0 0 0 0 0 0 0 0 0 0 0 0 0 0 0 0 0 0 0 0 0 0 0 0 0 0 0 0 0 0 0 0 0\n",
      "INFO:tensorflow:*** Example ***\n",
      "INFO:tensorflow:guid: test-2\n",
      "INFO:tensorflow:tokens: [CLS] i had originally purchased the go ##pole reach , returned it and bought this this po ##v pole . so i can give a comparison between the two . here ' s a quick review of both : go ##pole reach : [ . . . ] - comparable in price $ 54 . 99 for go ##pole vs $ 49 . 99 for po ##v pole - 25 % heavier than the po ##v pole . 8 oz vs . 6 . 4 oz . - longer final compressed length , will not fit my back - pack . and my back - pack is already larger than most . - on my unit , there was a problem with the 3rd section and the [SEP]\n",
      "INFO:tensorflow:input_ids: 101 1045 2018 2761 4156 1996 2175 15049 3362 1010 2513 2009 1998 4149 2023 2023 13433 2615 6536 1012 2061 1045 2064 2507 1037 7831 2090 1996 2048 1012 2182 1005 1055 1037 4248 3319 1997 2119 1024 2175 15049 3362 1024 1031 1012 1012 1012 1033 1011 12435 1999 3976 1002 5139 1012 5585 2005 2175 15049 5443 1002 4749 1012 5585 2005 13433 2615 6536 1011 2423 1003 11907 2084 1996 13433 2615 6536 1012 1022 11472 5443 1012 1020 1012 1018 11472 1012 1011 2936 2345 16620 3091 1010 2097 2025 4906 2026 2067 1011 5308 1012 1998 2026 2067 1011 5308 2003 2525 3469 2084 2087 1012 1011 2006 2026 3131 1010 2045 2001 1037 3291 2007 1996 3822 2930 1998 1996 102\n",
      "INFO:tensorflow:input_mask: 1 1 1 1 1 1 1 1 1 1 1 1 1 1 1 1 1 1 1 1 1 1 1 1 1 1 1 1 1 1 1 1 1 1 1 1 1 1 1 1 1 1 1 1 1 1 1 1 1 1 1 1 1 1 1 1 1 1 1 1 1 1 1 1 1 1 1 1 1 1 1 1 1 1 1 1 1 1 1 1 1 1 1 1 1 1 1 1 1 1 1 1 1 1 1 1 1 1 1 1 1 1 1 1 1 1 1 1 1 1 1 1 1 1 1 1 1 1 1 1 1 1 1 1 1 1 1 1\n",
      "INFO:tensorflow:segment_ids: 0 0 0 0 0 0 0 0 0 0 0 0 0 0 0 0 0 0 0 0 0 0 0 0 0 0 0 0 0 0 0 0 0 0 0 0 0 0 0 0 0 0 0 0 0 0 0 0 0 0 0 0 0 0 0 0 0 0 0 0 0 0 0 0 0 0 0 0 0 0 0 0 0 0 0 0 0 0 0 0 0 0 0 0 0 0 0 0 0 0 0 0 0 0 0 0 0 0 0 0 0 0 0 0 0 0 0 0 0 0 0 0 0 0 0 0 0 0 0 0 0 0 0 0 0 0 0 0\n",
      "INFO:tensorflow:*** Example ***\n",
      "INFO:tensorflow:guid: test-3\n",
      "INFO:tensorflow:tokens: [CLS] i picked up a pair of these for even a few dollars cheaper than amazon sells them , and to be honest , expected to be bringing them back . i didn ' t think something so inexpensive would actually work . i ' ve spent a lot of money on sen ##nh ##eis ##er wireless head ##phones over the years , and while they sound & work great , a design flaw causes them to end up breaking , becoming a real has ##sle to try and keep on your head , and then eventually die . these fit nice and s ##nu ##g , are comfortable , and to be honest , look like they ' ll last longer than the sen ##nh ##eis [SEP]\n",
      "INFO:tensorflow:input_ids: 101 1045 3856 2039 1037 3940 1997 2122 2005 2130 1037 2261 6363 16269 2084 9733 15187 2068 1010 1998 2000 2022 7481 1010 3517 2000 2022 5026 2068 2067 1012 1045 2134 1005 1056 2228 2242 2061 23766 2052 2941 2147 1012 1045 1005 2310 2985 1037 2843 1997 2769 2006 12411 25311 17580 2121 9949 2132 19093 2058 1996 2086 1010 1998 2096 2027 2614 1004 2147 2307 1010 1037 2640 28450 5320 2068 2000 2203 2039 4911 1010 3352 1037 2613 2038 25016 2000 3046 1998 2562 2006 2115 2132 1010 1998 2059 2776 3280 1012 2122 4906 3835 1998 1055 11231 2290 1010 2024 6625 1010 1998 2000 2022 7481 1010 2298 2066 2027 1005 2222 2197 2936 2084 1996 12411 25311 17580 102\n",
      "INFO:tensorflow:input_mask: 1 1 1 1 1 1 1 1 1 1 1 1 1 1 1 1 1 1 1 1 1 1 1 1 1 1 1 1 1 1 1 1 1 1 1 1 1 1 1 1 1 1 1 1 1 1 1 1 1 1 1 1 1 1 1 1 1 1 1 1 1 1 1 1 1 1 1 1 1 1 1 1 1 1 1 1 1 1 1 1 1 1 1 1 1 1 1 1 1 1 1 1 1 1 1 1 1 1 1 1 1 1 1 1 1 1 1 1 1 1 1 1 1 1 1 1 1 1 1 1 1 1 1 1 1 1 1 1\n",
      "INFO:tensorflow:segment_ids: 0 0 0 0 0 0 0 0 0 0 0 0 0 0 0 0 0 0 0 0 0 0 0 0 0 0 0 0 0 0 0 0 0 0 0 0 0 0 0 0 0 0 0 0 0 0 0 0 0 0 0 0 0 0 0 0 0 0 0 0 0 0 0 0 0 0 0 0 0 0 0 0 0 0 0 0 0 0 0 0 0 0 0 0 0 0 0 0 0 0 0 0 0 0 0 0 0 0 0 0 0 0 0 0 0 0 0 0 0 0 0 0 0 0 0 0 0 0 0 0 0 0 0 0 0 0 0 0\n",
      "INFO:tensorflow:*** Example ***\n",
      "INFO:tensorflow:guid: test-4\n",
      "INFO:tensorflow:tokens: [CLS] it might be the winner . i have listened to a number of speakers and simply i am always kept wanting more . and by more , i mean real sound that is natural and able to fill a room with ease . for the $ 100 category - - this is by far the best thing i have listened to . although not perfect , it is really good . what most sound like is an old realistic handheld radio that now costs $ 200 . . . . and that is truly how i feel they sound . there is a lot of h ##ype with bose , ultimate ears , jam ##box , td ##k , j ##bl - - - you name [SEP]\n"
     ]
    },
    {
     "name": "stdout",
     "output_type": "stream",
     "text": [
      "INFO:tensorflow:input_ids: 101 2009 2453 2022 1996 3453 1012 1045 2031 7791 2000 1037 2193 1997 7492 1998 3432 1045 2572 2467 2921 5782 2062 1012 1998 2011 2062 1010 1045 2812 2613 2614 2008 2003 3019 1998 2583 2000 6039 1037 2282 2007 7496 1012 2005 1996 1002 2531 4696 1011 1011 2023 2003 2011 2521 1996 2190 2518 1045 2031 7791 2000 1012 2348 2025 3819 1010 2009 2003 2428 2204 1012 2054 2087 2614 2066 2003 2019 2214 12689 27291 2557 2008 2085 5366 1002 3263 1012 1012 1012 1012 1998 2008 2003 5621 2129 1045 2514 2027 2614 1012 2045 2003 1037 2843 1997 1044 18863 2007 21299 1010 7209 5551 1010 9389 8758 1010 14595 2243 1010 1046 16558 1011 1011 1011 2017 2171 102\n",
      "INFO:tensorflow:input_mask: 1 1 1 1 1 1 1 1 1 1 1 1 1 1 1 1 1 1 1 1 1 1 1 1 1 1 1 1 1 1 1 1 1 1 1 1 1 1 1 1 1 1 1 1 1 1 1 1 1 1 1 1 1 1 1 1 1 1 1 1 1 1 1 1 1 1 1 1 1 1 1 1 1 1 1 1 1 1 1 1 1 1 1 1 1 1 1 1 1 1 1 1 1 1 1 1 1 1 1 1 1 1 1 1 1 1 1 1 1 1 1 1 1 1 1 1 1 1 1 1 1 1 1 1 1 1 1 1\n",
      "INFO:tensorflow:segment_ids: 0 0 0 0 0 0 0 0 0 0 0 0 0 0 0 0 0 0 0 0 0 0 0 0 0 0 0 0 0 0 0 0 0 0 0 0 0 0 0 0 0 0 0 0 0 0 0 0 0 0 0 0 0 0 0 0 0 0 0 0 0 0 0 0 0 0 0 0 0 0 0 0 0 0 0 0 0 0 0 0 0 0 0 0 0 0 0 0 0 0 0 0 0 0 0 0 0 0 0 0 0 0 0 0 0 0 0 0 0 0 0 0 0 0 0 0 0 0 0 0 0 0 0 0 0 0 0 0\n"
     ]
    }
   ],
   "source": [
    "test_features = run_regressor.convert_examples_to_features(test_examples,\n",
    "                                                            max_seq_length=max_seq_length,\n",
    "                                                            tokenizer=tokenizer)"
   ]
  },
  {
   "cell_type": "code",
   "execution_count": 8,
   "metadata": {},
   "outputs": [],
   "source": [
    "all_input_ids = []\n",
    "all_input_mask = []\n",
    "all_segment_ids = []\n",
    "all_label_ids = []"
   ]
  },
  {
   "cell_type": "code",
   "execution_count": 9,
   "metadata": {},
   "outputs": [],
   "source": [
    "for feature in test_features:\n",
    "    all_input_ids.append(feature.input_ids)\n",
    "    all_input_mask.append(feature.input_mask)\n",
    "    all_segment_ids.append(feature.segment_ids)\n",
    "    all_label_ids.append(feature.label_id)\n"
   ]
  },
  {
   "cell_type": "code",
   "execution_count": 10,
   "metadata": {},
   "outputs": [],
   "source": [
    "input_ids=tf.constant(all_input_ids[:50])\n",
    "input_mask=tf.constant(all_input_mask[:50])\n",
    "segment_ids=tf.constant(all_segment_ids[:50])\n",
    "label_ids = tf.constant(all_label_ids[:50])"
   ]
  },
  {
   "cell_type": "code",
   "execution_count": 11,
   "metadata": {},
   "outputs": [],
   "source": [
    "model = modeling.BertModel(\n",
    "  config=bert_config,\n",
    "  is_training=True,\n",
    "  input_ids=input_ids,\n",
    "  input_mask=input_mask,\n",
    "  token_type_ids=segment_ids,\n",
    "  use_one_hot_embeddings=False)"
   ]
  },
  {
   "cell_type": "code",
   "execution_count": 12,
   "metadata": {},
   "outputs": [],
   "source": [
    "num_labels = 1\n",
    "is_training = True"
   ]
  },
  {
   "cell_type": "code",
   "execution_count": 13,
   "metadata": {},
   "outputs": [],
   "source": [
    "output_layer = model.get_pooled_output()\n",
    "\n",
    "hidden_size = output_layer.shape[-1].value\n",
    "\n",
    "output_weights = tf.get_variable(\n",
    "  \"output_weights\", [1, hidden_size],\n",
    "  initializer=tf.truncated_normal_initializer(stddev=0.02))\n",
    "\n",
    "output_bias = tf.get_variable(\n",
    "  \"output_bias\", [num_labels], initializer=tf.zeros_initializer())\n",
    "\n",
    "with tf.variable_scope(\"loss\"):\n",
    "    if is_training:\n",
    "        # I.e., 0.1 dropout\n",
    "        output_layer = tf.nn.dropout(output_layer, keep_prob=0.9)\n",
    "\n",
    "    logits = tf.matmul(output_layer, output_weights, transpose_b=True)\n",
    "    logits = tf.nn.bias_add(logits, output_bias)\n",
    "    #probabilities = tf.nn.softmax(logits, axis=-1)\n",
    "    #log_probs = tf.nn.log_softmax(logits, axis=-1)\n",
    "    logits = tf.squeeze(logits)\n",
    "\n",
    "    loss = tf.losses.mean_squared_error(label_ids,logits)\n"
   ]
  },
  {
   "cell_type": "code",
   "execution_count": 20,
   "metadata": {},
   "outputs": [],
   "source": [
    "sess = tf.InteractiveSession()\n",
    "sess.run(tf.global_variables_initializer())\n",
    "loss_ = loss.eval()\n",
    "sess.close()"
   ]
  },
  {
   "cell_type": "code",
   "execution_count": 21,
   "metadata": {
    "scrolled": true
   },
   "outputs": [
    {
     "data": {
      "text/plain": [
       "0.46543816"
      ]
     },
     "execution_count": 21,
     "metadata": {},
     "output_type": "execute_result"
    }
   ],
   "source": [
    "loss_"
   ]
  },
  {
   "cell_type": "code",
   "execution_count": null,
   "metadata": {},
   "outputs": [],
   "source": []
  },
  {
   "cell_type": "code",
   "execution_count": null,
   "metadata": {},
   "outputs": [],
   "source": []
  }
 ],
 "metadata": {
  "kernelspec": {
   "display_name": "Python 3",
   "language": "python",
   "name": "python3"
  },
  "language_info": {
   "codemirror_mode": {
    "name": "ipython",
    "version": 3
   },
   "file_extension": ".py",
   "mimetype": "text/x-python",
   "name": "python",
   "nbconvert_exporter": "python",
   "pygments_lexer": "ipython3",
   "version": "3.6.4"
  }
 },
 "nbformat": 4,
 "nbformat_minor": 2
}
